{
  "nbformat": 4,
  "nbformat_minor": 0,
  "metadata": {
    "colab": {
      "provenance": []
    },
    "kernelspec": {
      "name": "python3",
      "display_name": "Python 3"
    }
  },
  "cells": [
    {
      "cell_type": "code",
      "metadata": {
        "id": "OLUKMp6bzVEJ"
      },
      "source": [
        "import numpy as np\n",
        "\n",
        "from numpy.testing import assert_allclose"
      ],
      "execution_count": 1,
      "outputs": []
    },
    {
      "cell_type": "markdown",
      "metadata": {
        "id": "Uz3t7DtP0gLx"
      },
      "source": [
        "# Part I. Construct a Householder reflection of a vector."
      ]
    },
    {
      "cell_type": "markdown",
      "metadata": {
        "id": "K0JvLCTy0kOI"
      },
      "source": [
        "Given a vector $\\mathbf{x}$, and a plane with a normal vector $\\mathbf{u}$, the Householder transformation reflects $\\mathbf{x}$ about the plane.\n",
        "\n",
        "The matrix of the Householder transformation is\n",
        "\n",
        "$$\n",
        "\\mathbf{H} = \\mathbf{I} - 2 \\mathbf{u} \\mathbf{u}^T\n",
        "$$\n",
        "\n",
        "Given two equal-length vectors $\\mathbf{x}$ and $\\mathbf{y}$, a rotation which brings $\\mathbf{x}$ to $\\mathbf{y}$ is a Householder transform with\n",
        "\n",
        "$$\n",
        "\\mathbf{u} = \\frac{\\mathbf{x} - \\mathbf{y}}{\\left|\\mathbf{x} - \\mathbf{y}\\right|}\n",
        "$$"
      ]
    },
    {
      "cell_type": "markdown",
      "metadata": {
        "id": "0SvLbsbc0oqh"
      },
      "source": [
        "Write a function which rotates a given vector, $\\mathbf{x} = (x_1, \\dots, x_n)$ into $\\mathbf{y} = (\\left|\\mathbf{x}\\right|, 0, \\dots, 0)^T$ using a Householder transformation."
      ]
    },
    {
      "cell_type": "code",
      "metadata": {
        "id": "_xCVjiVB0jco"
      },
      "source": [
        "def householder(vec):\n",
        "    \"\"\"Construct a Householder reflection to zero out 2nd and further components of a vector.\n",
        "\n",
        "    Parameters\n",
        "    ----------\n",
        "    vec : array-like of floats, shape (n,)\n",
        "        Input vector\n",
        "    \n",
        "    Returns\n",
        "    -------\n",
        "    outvec : array of floats, shape (n,)\n",
        "        Transformed vector, with ``outvec[1:]==0`` and ``|outvec| == |vec|``\n",
        "    H : array of floats, shape (n, n)\n",
        "        Orthogonal matrix of the Householder reflection\n",
        "    \"\"\"\n",
        "    # ... ENTER YOUR CODE HERE ...\n",
        "    x = vec \n",
        "    n = len(x)\n",
        "    I = np.eye(n)  \n",
        "    norm_x = np.linalg.norm(x) \n",
        "    y = np.zeros_like(x)\n",
        "    y[0] = norm_x \n",
        "    u = (x-y) / np.linalg.norm(x-y)\n",
        "    H = I - 2 * np.outer(u, u)\n",
        "    outvec = H @ x\n",
        "    \n",
        "    return  outvec, H\n",
        "    "
      ],
      "execution_count": 2,
      "outputs": []
    },
    {
      "cell_type": "code",
      "source": [
        "v = np.array([1, 2, 3])\n",
        "householder(v)"
      ],
      "metadata": {
        "colab": {
          "base_uri": "https://localhost:8080/"
        },
        "id": "Av5bLhgLjcQt",
        "outputId": "bae2626f-320a-443f-a774-a9817f2ac418"
      },
      "execution_count": null,
      "outputs": [
        {
          "output_type": "execute_result",
          "data": {
            "text/plain": [
              "(array([ 3.58823529, -0.58823529, -0.88235294]),\n",
              " array([[ 0.52941176,  0.47058824,  0.70588235],\n",
              "        [ 0.47058824,  0.52941176, -0.70588235],\n",
              "        [ 0.70588235, -0.70588235, -0.05882353]]))"
            ]
          },
          "metadata": {},
          "execution_count": 43
        }
      ]
    },
    {
      "cell_type": "markdown",
      "metadata": {
        "id": "otdj2PA8bGwx"
      },
      "source": [
        "Test your function using tests below:"
      ]
    },
    {
      "cell_type": "code",
      "metadata": {
        "id": "D6TICN9QbKQH"
      },
      "source": [
        "# Test I.1 (10% of the total grade).\n",
        "\n",
        "v = np.array([1, 2, 3])\n",
        "v1, h = householder(v)\n",
        "\n",
        "assert_allclose(np.dot(h, v1), v)\n",
        "assert_allclose(np.dot(h, v), v1)"
      ],
      "execution_count": 3,
      "outputs": []
    },
    {
      "cell_type": "code",
      "metadata": {
        "id": "Y_iJuPlpbzLI"
      },
      "source": [
        "# Test I.2 (10% of the total grade).\n",
        "\n",
        "rndm = np.random.RandomState(1234)\n",
        "\n",
        "vec = rndm.uniform(size=7)\n",
        "v1, h = householder(vec)\n",
        "\n",
        "assert_allclose(np.dot(h, v1), vec)"
      ],
      "execution_count": 4,
      "outputs": []
    },
    {
      "cell_type": "markdown",
      "metadata": {
        "id": "wNDpJogKb-WW"
      },
      "source": [
        "# Part II. Compute the $\\mathrm{QR}$ decomposition of a matrix.\n",
        "\n",
        "Given a rectangular $m\\times n$ matrix $\\mathbf{A}$, construct a Householder reflector matrix $\\mathbf{H}_1$ which transforms the first column of $\\mathbf{A}$ (and call the result $\\mathbf{A}^{(1)}$)\n",
        "\n",
        "$$\n",
        "\\mathbf{H}_1 \\mathbf{A} =%\n",
        "\\begin{pmatrix}\n",
        "\\times & \\times & \\times & \\dots & \\times \\\\\n",
        "0      & \\times & \\times & \\dots & \\times \\\\\n",
        "0      & \\times & \\times & \\dots & \\times \\\\\n",
        "&& \\dots&& \\\\\n",
        "0      & \\times & \\times & \\dots & \\times \\\\\n",
        "\\end{pmatrix}%\n",
        "\\equiv \\mathbf{A}^{(1)}\\;.\n",
        "$$\n",
        "\n",
        "Now consider the lower-right submatrix of $\\mathbf{A}^{(1)}$, and construct a Householder reflector which annihilates the second column of $\\mathbf{A}$:\n",
        "\n",
        "$$\n",
        "\\mathbf{H}_2 \\mathbf{A}^{(1)} =%\n",
        "\\begin{pmatrix}\n",
        "\\times & \\times & \\times & \\dots & \\times \\\\\n",
        "0      & \\times & \\times & \\dots & \\times \\\\\n",
        "0      & 0      & \\times & \\dots & \\times \\\\\n",
        "&& \\dots&& \\\\\n",
        "0      & 0      & \\times & \\dots & \\times \\\\\n",
        "\\end{pmatrix}%\n",
        "\\equiv \\mathbf{A}^{(2)} \\;.\n",
        "$$\n",
        "\n",
        "Repeating the process $n-1$ times, we obtain\n",
        "\n",
        "$$\n",
        "\\mathbf{H}_{n-1} \\cdots \\mathbf{H}_2 \\mathbf{H}_1 \\mathbf{A} = \\mathbf{R} \\;,\n",
        "$$\n",
        "\n",
        "with $\\mathbf{R}$ an upper triangular matrix. Since each $\\mathbf{H}_k$ is orthogonal, so is their product. The inverse of an orthogonal matrix is orthogonal. Hence the process generates the $\\mathrm{QR}$ decomposition of $\\mathbf{A}$. \n",
        "\n",
        "$$\n",
        "\\mathbf{A} = (\\mathbf{H}_{n-1} \\cdots \\mathbf{H}_2 \\mathbf{H}_1)^{-1} \\mathbf{R} \\;,\n",
        "$$\n",
        "so \n",
        "$$\n",
        "\\mathbf{A} =  \\mathbf{Q} \\mathbf{R} \\;,\n",
        "$$\n",
        "with\n",
        "$$\n",
        "\\mathbf{Q} = (\\mathbf{H}_{n-1} \\cdots \\mathbf{H}_2 \\mathbf{H}_1)^{-1} =  \\mathbf{H}_1^{-1}  \\mathbf{H}_2^{-1}  \\cdots \\mathbf{H}_{n-1}^{-1} = \\mathbf{H}_1^T  \\mathbf{H}_2^T  \\cdots \\mathbf{H}_{n-1}^T \n",
        "$$\n",
        "Since $\\mathbf{H}_i$ is ortogonal\n",
        "$$\n",
        "\\mathbf{H}_i\\mathbf{H}_i^T = \\mathbf{I}\n",
        "$$\n",
        "then\n",
        "$$\n",
        "\\mathbf{H}^{-1} = \\mathbf{H}^T \n",
        "$$\n",
        "but also  $\\mathbf{H}_i$ is symetric\n",
        "$$\n",
        "\\mathbf{H}_i^T = \\mathbf{H}_i\n",
        "$$\n",
        "so\n",
        "$$\n",
        "\\mathbf{Q} = \\mathbf{H}_1^{-1}  \\mathbf{H}_2^{-1}  \\cdots \\mathbf{H}_{n-1}^{-1} = \\mathbf{H}_1^T  \\mathbf{H}_2^T  \\cdots \\mathbf{H}_{n-1}^T =  \\mathbf{H}_1 \\mathbf{H}_2  \\cdots \\mathbf{H}_{n-1}\n",
        "$$\n"
      ]
    },
    {
      "cell_type": "code",
      "metadata": {
        "id": "-asgo49bb42_"
      },
      "source": [
        "def qr_decomp(a):\n",
        "    \"\"\"Compute the QR decomposition of a matrix.\n",
        "    \n",
        "    Parameters\n",
        "    ----------\n",
        "    a : ndarray, shape(m, n)\n",
        "        The input matrix\n",
        "    \n",
        "    Returns\n",
        "    -------\n",
        "    Q : ndarray, shape(m, m)\n",
        "        The orthogonal matrix\n",
        "    R : ndarray, shape(m, n)\n",
        "        The upper triangular matrix\n",
        "        \n",
        "    Examples\n",
        "    --------\n",
        "    >>> a = np.random.random(size=(3, 5))\n",
        "    >>> q, r = qr_decomp(a)\n",
        "    >>> np.assert_allclose(np.dot(q, r), a)\n",
        "    \n",
        "    \"\"\"\n",
        "    # ... ENTER YOUR CODE HERE ...\n",
        "    A = a\n",
        "    m, n = A.shape\n",
        "    Q = np.eye(m)\n",
        "    R = np.copy(A)\n",
        "    \n",
        "\n",
        "    for i in range(min(m, n)):\n",
        "        v = R[i:, i]\n",
        "        norm_v = np.linalg.norm(v)\n",
        "        \n",
        "        u = np.zeros_like(v)\n",
        "        u[0] = v[0] + np.sign(v[0]) * norm_v\n",
        "        u[1:] = v[1:]\n",
        "\n",
        "        norm_u = np.linalg.norm(u)\n",
        "        u_normalized = u / norm_u\n",
        "\n",
        "        H1 = np.eye(len(u)) - 2 * np.outer(u_normalized, u_normalized)\n",
        "        H_full = np.eye(m)\n",
        "        H_full[i:, i:] = H1\n",
        "\n",
        "        Q = np.dot(Q, H_full.T)\n",
        "        R = np.dot(H_full, R)\n",
        "\n",
        "    return Q,R"
      ],
      "execution_count": 39,
      "outputs": []
    },
    {
      "cell_type": "code",
      "source": [
        "a = np.random.random(size=(3, 5))\n",
        "q, r = qr_decomp(a)\n"
      ],
      "metadata": {
        "id": "cXmfPD9D9R68"
      },
      "execution_count": 40,
      "outputs": []
    },
    {
      "cell_type": "code",
      "metadata": {
        "id": "9JNb9e0Ncv-B"
      },
      "source": [
        "# Might want to turn this on for prettier printing: zeros instead of `1e-16` etc\n",
        "\n",
        "np.set_printoptions(suppress=True)"
      ],
      "execution_count": 41,
      "outputs": []
    },
    {
      "cell_type": "code",
      "metadata": {
        "id": "SiI3KkVnsqQz"
      },
      "source": [
        "# Test II.1 (20% of the total grade)\n",
        "\n",
        "rndm = np.random.RandomState(1234)\n",
        "a = rndm.uniform(size=(5, 3))\n",
        "q, r = qr_decomp(a)\n",
        "\n",
        "# test that Q is indeed orthogonal\n",
        "assert_allclose(np.dot(q, q.T), np.eye(5), atol=1e-10)\n",
        "\n",
        "# test the decomposition itself\n",
        "assert_allclose(np.dot(q, r), a)"
      ],
      "execution_count": 42,
      "outputs": []
    },
    {
      "cell_type": "markdown",
      "metadata": {
        "id": "zB1DDyVps5Br"
      },
      "source": [
        "Now compare your decompositions to the library function (which actually wraps the corresponding LAPACK functions)"
      ]
    },
    {
      "cell_type": "code",
      "metadata": {
        "id": "mfDa37dts6K6"
      },
      "source": [
        "from scipy.linalg import qr\n",
        "qq, rr = qr(a)\n",
        "\n",
        "assert_allclose(np.dot(qq, rr), a)"
      ],
      "execution_count": 43,
      "outputs": []
    },
    {
      "cell_type": "markdown",
      "metadata": {
        "id": "IFOrXiW5tGjL"
      },
      "source": [
        "Check if your q and r agree with qq and rr. Explain."
      ]
    },
    {
      "cell_type": "code",
      "metadata": {
        "id": "d2sBV9aPdoJA",
        "colab": {
          "base_uri": "https://localhost:8080/"
        },
        "outputId": "81361224-9abb-4cbc-c88d-6e73025c9257"
      },
      "source": [
        "from scipy.linalg import qr\n",
        "a = np.array([[4,3,1], [5,7,0], [9,9,3], [8,2,4], [9,3,1]])\n",
        "q, r = qr_decomp(a)\n",
        "qq, rr = qr(a)\n",
        "print(q)\n",
        "print(qq)\n",
        "print(r)\n",
        "print(rr)\n",
        "print(a)\n",
        "print(q@r)\n",
        "print(qq@rr)"
      ],
      "execution_count": 34,
      "outputs": [
        {
          "output_type": "stream",
          "name": "stdout",
          "text": [
            "[[-0.22887865 -0.09289517 -0.02407796 -0.42505664 -0.87047812]\n",
            " [-0.30721966 -0.57985684  0.34192067  0.64732123 -0.18288687]\n",
            " [-0.55299539 -0.4926121  -0.35829868 -0.40048423  0.40344002]\n",
            " [-0.49155146  0.48067293 -0.5528284   0.45312486 -0.12802081]\n",
            " [-0.55299539  0.42593825  0.66971137 -0.18599011  0.17224129]]\n",
            "[[-0.24479602 -0.06723049  0.00981821 -0.41631113 -0.87300837]\n",
            " [-0.30599503 -0.58266423  0.33762629  0.64971343 -0.17535786]\n",
            " [-0.55079106 -0.4964713  -0.36457628 -0.41134781  0.38473703]\n",
            " [-0.48959205  0.47923271 -0.55563068  0.4547994  -0.1227505 ]\n",
            " [-0.55079106  0.42406923  0.66653641 -0.16884307  0.20979928]]\n",
            "[[-16.33794163 -10.4562212   -4.40706605]\n",
            " [ -0.02554617  -6.53203171   0.77789847]\n",
            " [ -0.00662144  -0.          -2.64057622]\n",
            " [ -0.11689058   0.          -0.        ]\n",
            " [ -0.23938148   0.           0.        ]]\n",
            "[[-16.34013464 -10.46503005  -4.40632844]\n",
            " [  0.          -6.51790964   0.7843557 ]\n",
            " [  0.           0.          -2.63989693]\n",
            " [  0.           0.           0.        ]\n",
            " [  0.           0.           0.        ]]\n",
            "[[4 3 1]\n",
            " [5 7 0]\n",
            " [9 9 3]\n",
            " [8 2 4]\n",
            " [9 3 1]]\n",
            "[[4. 3. 1.]\n",
            " [5. 7. 0.]\n",
            " [9. 9. 3.]\n",
            " [8. 2. 4.]\n",
            " [9. 3. 1.]]\n",
            "[[4. 3. 1.]\n",
            " [5. 7. 0.]\n",
            " [9. 9. 3.]\n",
            " [8. 2. 4.]\n",
            " [9. 3. 1.]]\n"
          ]
        }
      ]
    },
    {
      "cell_type": "markdown",
      "metadata": {
        "id": "mv5qlwoHMwvU"
      },
      "source": [
        "Enter your explanation here (10% of the total grade, peer-graded)"
      ]
    },
    {
      "cell_type": "markdown",
      "metadata": {
        "id": "zwqwAkrotneq"
      },
      "source": [
        "# Part III. Avoid forming Householder matrices explicitly."
      ]
    },
    {
      "cell_type": "markdown",
      "metadata": {
        "id": "LfaWxcavtofS"
      },
      "source": [
        "Note the special structure of the Householder matrices: A reflector $\\mathbf{H}$ is completely specified by a reflection vector $\\mathbf{u}$. Also note that the computational cost of applying a reflector to a matrix strongly depends on the order of operations:\n",
        "\n",
        "$$\n",
        "\\left( \\mathbf{u} \\mathbf{u}^T \\right) \\mathbf{A}  \\qquad \\textrm{is } O(m^2 n)\\;,\n",
        "$$\n",
        "while\n",
        "$$\n",
        "\\mathbf{u} \\left( \\mathbf{u}^T \\mathbf{A} \\right) \\qquad \\textrm{is } O(mn)\n",
        "$$\n",
        "\n",
        "Thus, it seems to make sense to *avoid* forming the $\\mathbf{H}$ matrices. Instead, one stores the reflection vectors, $\\mathbf{u}$, themselves, and provides a way of multiplying an arbitrary matrix by $\\mathbf{Q}^T$, e.g., as a standalone function (or a class).\n",
        "\n",
        "\n",
        "\n"
      ]
    },
    {
      "cell_type": "markdown",
      "metadata": {
        "id": "xdrCItiYt027"
      },
      "source": [
        "Write a function which constructs the `QR` decomposition of a matrix *without ever forming the* $\\mathbf{H}$ matrices, and returns the $\\mathbf{R}$ matrix and reflection vectors. \n",
        "\n",
        "Write a second function, which uses reflection vectors to multiply a matrix with $\\mathbf{Q}^T$. Make sure to include enough comments for a marker to follow your implementation, and add tests. \n",
        "\n",
        "(Peer-graded, 40% of the total grade)"
      ]
    },
    {
      "cell_type": "markdown",
      "metadata": {
        "id": "02SQz3w1MAdF"
      },
      "source": [
        "$$\n",
        "\\mathbf{R} = \\mathbf{H}_{n-1} \\cdots \\mathbf{H}_2 \\mathbf{H}_1 \\mathbf{A} \n",
        "$$\n",
        "and \n",
        "$$\n",
        "\\mathbf{H}_i = \\mathbf{I} - 2 \\mathbf{u}_i \\mathbf{u}_i^T\n",
        "$$\n",
        "so if\n",
        "$$\n",
        "\\mathbf{R}_0 =  \\mathbf{A}\n",
        "$$\n",
        "then \n",
        "$$\n",
        "\\mathbf{R}_1 = \\mathbf{H}_1 \\mathbf{R}_0= \\ (\\mathbf{I} - 2 \\mathbf{u}_1 \\mathbf{u}_1^T) \\mathbf{R}_0 =  \\mathbf{R}_0 -  2 \\mathbf{u}_1 ( \\mathbf{u}_1^T  \\mathbf{R}_0)\n",
        "$$\n",
        "and\n",
        "$$\n",
        "\\mathbf{R}_2 = \\mathbf{H}_2 \\mathbf{R}_1 = \\ (\\mathbf{I} - 2 \\mathbf{u}_2 \\mathbf{u}_2^T) \\mathbf{R}_1 =  \\mathbf{R}_1 -  2 \\mathbf{u}_2 ( \\mathbf{u}_2^T  \\mathbf{R}_1)\n",
        "$$\n",
        "so on until\n",
        "$$\n",
        "\\mathbf{R} = \\mathbf{H}_n \\mathbf{R}_{n-1} =  (\\mathbf{I} - 2 \\mathbf{u}_{n-1} \\mathbf{u}_{n-1}^T) \\mathbf{R}_{n-1} = \\mathbf{R}_{n-1} -  2 \\mathbf{u}_{n-1} ( \\mathbf{u}_{n-1}^T  \\mathbf{R}_{n-1})\n",
        "$$"
      ]
    },
    {
      "cell_type": "code",
      "metadata": {
        "id": "agH0iQYjt145"
      },
      "source": [
        "def r_decomp(a):\n",
        "    \"\"\"Compute R without ever forming the  H  matrices\n",
        "    \n",
        "    Parameters\n",
        "    ----------\n",
        "    a : ndarray, shape(m, n)\n",
        "        The input matrix\n",
        "    \n",
        "    Returns\n",
        "    -------\n",
        "    \n",
        "    R : ndarray, shape(m, n)\n",
        "        The upper triangular matrix\n",
        "    vecs:  reflection vectors.\n",
        "        \n",
        "    \"\"\"\n",
        "    # ... ENTER YOUR CODE HERE ...\n",
        "    A = a.copy()\n",
        "    m, n = A.shape\n",
        "    R = np.copy(A)\n",
        "    vecs = []\n",
        "\n",
        "    for i in range(min(m, n)):\n",
        "        v = R[i:, i]\n",
        "        norm_v = np.linalg.norm(v)\n",
        "        u = np.zeros_like(v)\n",
        "        u[0] = v[0] + np.sign(v[0]) * norm_v\n",
        "        u[1:] = v[1:]\n",
        "\n",
        "        norm_u = np.linalg.norm(u)\n",
        "        u_normalized = u / norm_u\n",
        "        vecs.append(u_normalized.reshape(-1)) \n",
        "\n",
        "        R[i:, i:] -= 2 * np.outer(u_normalized, np.dot(u_normalized, R[i:, i:]))\n",
        "    \n",
        "\n",
        "    return R, vecs"
      ],
      "execution_count": 85,
      "outputs": []
    },
    {
      "cell_type": "markdown",
      "metadata": {
        "id": "pfIyTAAyL3xd"
      },
      "source": [
        "$$\n",
        "\\mathbf{Q} =  \\mathbf{H}_1 \\mathbf{H}_2  \\cdots \\mathbf{H}_{n-1}\n",
        "$$\n",
        "and\n",
        "$$\n",
        "\\mathbf{H}_i = \\mathbf{I} - 2 \\mathbf{u}_i \\mathbf{u}_i^T\n",
        "$$\n",
        "so \n",
        "$$\n",
        "\\mathbf{Q} =  (\\mathbf{I} - 2 \\mathbf{u}_1 \\mathbf{u}_1^T )( \\mathbf{I} - 2 \\mathbf{u}_2 \\mathbf{u}_2^T)  \\cdots (\\mathbf{I} - 2 \\mathbf{u}_{n-1} \\mathbf{u}_{n-1}^T)\n",
        "$$"
      ]
    },
    {
      "cell_type": "code",
      "metadata": {
        "id": "n_ER2kVdLprT"
      },
      "source": [
        "def q_decomp(vecs):\n",
        "    \"\"\"Compute Q and QT from reflection vectors\n",
        "    \n",
        "    Parameters\n",
        "    ----------\n",
        "    a : ndarray, shape(m, n)\n",
        "        The input matrix\n",
        "    \n",
        "    Returns\n",
        "    -------\n",
        "    \n",
        "    Q : ndarray, shape(m, m)\n",
        "        The ortogonal matrix\n",
        "    Q.T : ndarray, shape(m, m)\n",
        "        The transpose of Q\n",
        "\n",
        "    \"\"\"\n",
        "    \n",
        "    # ... ENTER YOUR CODE HERE ...\n",
        "    n = len(vecs)\n",
        "    m = vecs[0].shape[0]\n",
        "    Q = np.eye(m)\n",
        "    \n",
        "    for i in range(n):\n",
        "        u = vecs[i]\n",
        "        H = np.eye(m, m)\n",
        "        H[i:, i:] -= 2 * np.outer(u, u)\n",
        "        Q = np.matmul(H, Q)\n",
        "\n",
        "    QT = Q.T\n",
        "\n",
        "    return Q, QT"
      ],
      "execution_count": 86,
      "outputs": []
    },
    {
      "cell_type": "code",
      "source": [
        "rndm = np.random.RandomState(1234)\n",
        "a = rndm.uniform(size=(5, 3))\n",
        "r, vecs = r_decomp(a)\n",
        "q,qt = q_decomp(vecs)\n",
        "assert_allclose(np.dot(q, q.T), np.eye(5), atol=1e-10)\n"
      ],
      "metadata": {
        "id": "uZuhjJr12x0M"
      },
      "execution_count": 87,
      "outputs": []
    },
    {
      "cell_type": "code",
      "metadata": {
        "id": "a6TJziVDUQf3",
        "colab": {
          "base_uri": "https://localhost:8080/",
          "height": 564
        },
        "outputId": "040c305c-640f-4141-a203-556d2903bd28"
      },
      "source": [
        "rndm = np.random.RandomState(1234)\n",
        "a = rndm.uniform(size=(5, 3))\n",
        "r, vecs = r_decomp(a)\n",
        "q,qt = q_decomp(vecs)\n",
        "\n",
        "# test that Q is indeed orthogonal\n",
        "assert_allclose(np.dot(q, q.T), np.eye(5), atol=1e-10)\n",
        "\n",
        "# test the decomposition itself\n",
        "assert_allclose(np.dot(q, r), a)"
      ],
      "execution_count": 88,
      "outputs": [
        {
          "output_type": "error",
          "ename": "AssertionError",
          "evalue": "ignored",
          "traceback": [
            "\u001b[0;31m---------------------------------------------------------------------------\u001b[0m",
            "\u001b[0;31mAssertionError\u001b[0m                            Traceback (most recent call last)",
            "\u001b[0;32m<ipython-input-88-8d7d7cb74db2>\u001b[0m in \u001b[0;36m<cell line: 10>\u001b[0;34m()\u001b[0m\n\u001b[1;32m      8\u001b[0m \u001b[0;34m\u001b[0m\u001b[0m\n\u001b[1;32m      9\u001b[0m \u001b[0;31m# test the decomposition itself\u001b[0m\u001b[0;34m\u001b[0m\u001b[0;34m\u001b[0m\u001b[0m\n\u001b[0;32m---> 10\u001b[0;31m \u001b[0massert_allclose\u001b[0m\u001b[0;34m(\u001b[0m\u001b[0mnp\u001b[0m\u001b[0;34m.\u001b[0m\u001b[0mdot\u001b[0m\u001b[0;34m(\u001b[0m\u001b[0mq\u001b[0m\u001b[0;34m,\u001b[0m \u001b[0mr\u001b[0m\u001b[0;34m)\u001b[0m\u001b[0;34m,\u001b[0m \u001b[0ma\u001b[0m\u001b[0;34m)\u001b[0m\u001b[0;34m\u001b[0m\u001b[0;34m\u001b[0m\u001b[0m\n\u001b[0m",
            "    \u001b[0;31m[... skipping hidden 1 frame]\u001b[0m\n",
            "\u001b[0;32m/usr/local/lib/python3.10/dist-packages/numpy/testing/_private/utils.py\u001b[0m in \u001b[0;36massert_array_compare\u001b[0;34m(comparison, x, y, err_msg, verbose, header, precision, equal_nan, equal_inf)\u001b[0m\n\u001b[1;32m    842\u001b[0m                                 \u001b[0mverbose\u001b[0m\u001b[0;34m=\u001b[0m\u001b[0mverbose\u001b[0m\u001b[0;34m,\u001b[0m \u001b[0mheader\u001b[0m\u001b[0;34m=\u001b[0m\u001b[0mheader\u001b[0m\u001b[0;34m,\u001b[0m\u001b[0;34m\u001b[0m\u001b[0;34m\u001b[0m\u001b[0m\n\u001b[1;32m    843\u001b[0m                                 names=('x', 'y'), precision=precision)\n\u001b[0;32m--> 844\u001b[0;31m             \u001b[0;32mraise\u001b[0m \u001b[0mAssertionError\u001b[0m\u001b[0;34m(\u001b[0m\u001b[0mmsg\u001b[0m\u001b[0;34m)\u001b[0m\u001b[0;34m\u001b[0m\u001b[0;34m\u001b[0m\u001b[0m\n\u001b[0m\u001b[1;32m    845\u001b[0m     \u001b[0;32mexcept\u001b[0m \u001b[0mValueError\u001b[0m\u001b[0;34m:\u001b[0m\u001b[0;34m\u001b[0m\u001b[0;34m\u001b[0m\u001b[0m\n\u001b[1;32m    846\u001b[0m         \u001b[0;32mimport\u001b[0m \u001b[0mtraceback\u001b[0m\u001b[0;34m\u001b[0m\u001b[0;34m\u001b[0m\u001b[0m\n",
            "\u001b[0;31mAssertionError\u001b[0m: \nNot equal to tolerance rtol=1e-07, atol=0\n\nMismatched elements: 14 / 15 (93.3%)\nMax absolute difference: 1.80320998\nMax relative difference: 4.54822007\n x: array([[ 0.191519, -0.300579, -0.152805],\n       [-0.751237, -0.592066, -0.77829 ],\n       [-0.13132 ,  0.331533,  0.611269],...\n y: array([[0.191519, 0.622109, 0.437728],\n       [0.785359, 0.779976, 0.272593],\n       [0.276464, 0.801872, 0.958139],..."
          ]
        }
      ]
    },
    {
      "cell_type": "code",
      "metadata": {
        "id": "-eaGWWkHX-dP"
      },
      "source": [
        "from scipy.linalg import qr\n",
        "qq, rr = qr(a)\n",
        "\n",
        "assert_allclose(np.dot(qq, rr), a)"
      ],
      "execution_count": 89,
      "outputs": []
    },
    {
      "cell_type": "code",
      "metadata": {
        "colab": {
          "base_uri": "https://localhost:8080/",
          "height": 356
        },
        "id": "6JGctCeR_LLn",
        "outputId": "e73bda89-a304-4890-caaa-eb5bba2b8b5c"
      },
      "source": [
        "a = np.array([[4,3,1], [5,7,0], [9,9,3], [8,2,4], [9,3,1]])\n",
        "R, vecs = r_decomp(a)\n",
        "print(\"R\\n \",R)\n",
        "Q,QT = q_decomp(vecs)\n",
        "print(\"Q\\n\",Q)\n",
        "print(\"QT\\n\",QT)\n",
        "print(\"QT@Q\\n\",QT@Q)\n",
        "print(\"a\\n\",a)\n",
        "print(\"Q@R\\n\",Q@R)"
      ],
      "execution_count": 90,
      "outputs": [
        {
          "output_type": "error",
          "ename": "UFuncTypeError",
          "evalue": "ignored",
          "traceback": [
            "\u001b[0;31m---------------------------------------------------------------------------\u001b[0m",
            "\u001b[0;31mUFuncTypeError\u001b[0m                            Traceback (most recent call last)",
            "\u001b[0;32m<ipython-input-90-137be1499ef1>\u001b[0m in \u001b[0;36m<cell line: 2>\u001b[0;34m()\u001b[0m\n\u001b[1;32m      1\u001b[0m \u001b[0ma\u001b[0m \u001b[0;34m=\u001b[0m \u001b[0mnp\u001b[0m\u001b[0;34m.\u001b[0m\u001b[0marray\u001b[0m\u001b[0;34m(\u001b[0m\u001b[0;34m[\u001b[0m\u001b[0;34m[\u001b[0m\u001b[0;36m4\u001b[0m\u001b[0;34m,\u001b[0m\u001b[0;36m3\u001b[0m\u001b[0;34m,\u001b[0m\u001b[0;36m1\u001b[0m\u001b[0;34m]\u001b[0m\u001b[0;34m,\u001b[0m \u001b[0;34m[\u001b[0m\u001b[0;36m5\u001b[0m\u001b[0;34m,\u001b[0m\u001b[0;36m7\u001b[0m\u001b[0;34m,\u001b[0m\u001b[0;36m0\u001b[0m\u001b[0;34m]\u001b[0m\u001b[0;34m,\u001b[0m \u001b[0;34m[\u001b[0m\u001b[0;36m9\u001b[0m\u001b[0;34m,\u001b[0m\u001b[0;36m9\u001b[0m\u001b[0;34m,\u001b[0m\u001b[0;36m3\u001b[0m\u001b[0;34m]\u001b[0m\u001b[0;34m,\u001b[0m \u001b[0;34m[\u001b[0m\u001b[0;36m8\u001b[0m\u001b[0;34m,\u001b[0m\u001b[0;36m2\u001b[0m\u001b[0;34m,\u001b[0m\u001b[0;36m4\u001b[0m\u001b[0;34m]\u001b[0m\u001b[0;34m,\u001b[0m \u001b[0;34m[\u001b[0m\u001b[0;36m9\u001b[0m\u001b[0;34m,\u001b[0m\u001b[0;36m3\u001b[0m\u001b[0;34m,\u001b[0m\u001b[0;36m1\u001b[0m\u001b[0;34m]\u001b[0m\u001b[0;34m]\u001b[0m\u001b[0;34m)\u001b[0m\u001b[0;34m\u001b[0m\u001b[0;34m\u001b[0m\u001b[0m\n\u001b[0;32m----> 2\u001b[0;31m \u001b[0mR\u001b[0m\u001b[0;34m,\u001b[0m \u001b[0mvecs\u001b[0m \u001b[0;34m=\u001b[0m \u001b[0mr_decomp\u001b[0m\u001b[0;34m(\u001b[0m\u001b[0ma\u001b[0m\u001b[0;34m)\u001b[0m\u001b[0;34m\u001b[0m\u001b[0;34m\u001b[0m\u001b[0m\n\u001b[0m\u001b[1;32m      3\u001b[0m \u001b[0mprint\u001b[0m\u001b[0;34m(\u001b[0m\u001b[0;34m\"R\\n \"\u001b[0m\u001b[0;34m,\u001b[0m\u001b[0mR\u001b[0m\u001b[0;34m)\u001b[0m\u001b[0;34m\u001b[0m\u001b[0;34m\u001b[0m\u001b[0m\n\u001b[1;32m      4\u001b[0m \u001b[0mQ\u001b[0m\u001b[0;34m,\u001b[0m\u001b[0mQT\u001b[0m \u001b[0;34m=\u001b[0m \u001b[0mq_decomp\u001b[0m\u001b[0;34m(\u001b[0m\u001b[0mvecs\u001b[0m\u001b[0;34m)\u001b[0m\u001b[0;34m\u001b[0m\u001b[0;34m\u001b[0m\u001b[0m\n\u001b[1;32m      5\u001b[0m \u001b[0mprint\u001b[0m\u001b[0;34m(\u001b[0m\u001b[0;34m\"Q\\n\"\u001b[0m\u001b[0;34m,\u001b[0m\u001b[0mQ\u001b[0m\u001b[0;34m)\u001b[0m\u001b[0;34m\u001b[0m\u001b[0;34m\u001b[0m\u001b[0m\n",
            "\u001b[0;32m<ipython-input-85-014f2f1354d4>\u001b[0m in \u001b[0;36mr_decomp\u001b[0;34m(a)\u001b[0m\n\u001b[1;32m     32\u001b[0m         \u001b[0mvecs\u001b[0m\u001b[0;34m.\u001b[0m\u001b[0mappend\u001b[0m\u001b[0;34m(\u001b[0m\u001b[0mu_normalized\u001b[0m\u001b[0;34m.\u001b[0m\u001b[0mreshape\u001b[0m\u001b[0;34m(\u001b[0m\u001b[0;34m-\u001b[0m\u001b[0;36m1\u001b[0m\u001b[0;34m)\u001b[0m\u001b[0;34m)\u001b[0m\u001b[0;34m\u001b[0m\u001b[0;34m\u001b[0m\u001b[0m\n\u001b[1;32m     33\u001b[0m \u001b[0;34m\u001b[0m\u001b[0m\n\u001b[0;32m---> 34\u001b[0;31m         \u001b[0mR\u001b[0m\u001b[0;34m[\u001b[0m\u001b[0mi\u001b[0m\u001b[0;34m:\u001b[0m\u001b[0;34m,\u001b[0m \u001b[0mi\u001b[0m\u001b[0;34m:\u001b[0m\u001b[0;34m]\u001b[0m \u001b[0;34m-=\u001b[0m \u001b[0;36m2\u001b[0m \u001b[0;34m*\u001b[0m \u001b[0mnp\u001b[0m\u001b[0;34m.\u001b[0m\u001b[0mouter\u001b[0m\u001b[0;34m(\u001b[0m\u001b[0mu_normalized\u001b[0m\u001b[0;34m,\u001b[0m \u001b[0mnp\u001b[0m\u001b[0;34m.\u001b[0m\u001b[0mdot\u001b[0m\u001b[0;34m(\u001b[0m\u001b[0mu_normalized\u001b[0m\u001b[0;34m,\u001b[0m \u001b[0mR\u001b[0m\u001b[0;34m[\u001b[0m\u001b[0mi\u001b[0m\u001b[0;34m:\u001b[0m\u001b[0;34m,\u001b[0m \u001b[0mi\u001b[0m\u001b[0;34m:\u001b[0m\u001b[0;34m]\u001b[0m\u001b[0;34m)\u001b[0m\u001b[0;34m)\u001b[0m\u001b[0;34m\u001b[0m\u001b[0;34m\u001b[0m\u001b[0m\n\u001b[0m\u001b[1;32m     35\u001b[0m \u001b[0;34m\u001b[0m\u001b[0m\n\u001b[1;32m     36\u001b[0m \u001b[0;34m\u001b[0m\u001b[0m\n",
            "\u001b[0;31mUFuncTypeError\u001b[0m: Cannot cast ufunc 'subtract' output from dtype('float64') to dtype('int64') with casting rule 'same_kind'"
          ]
        }
      ]
    }
  ]
}