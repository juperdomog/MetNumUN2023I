{
  "nbformat": 4,
  "nbformat_minor": 0,
  "metadata": {
    "colab": {
      "provenance": []
    },
    "kernelspec": {
      "name": "python3",
      "display_name": "Python 3"
    },
    "language_info": {
      "name": "python"
    }
  },
  "cells": [
    {
      "cell_type": "markdown",
      "metadata": {
        "id": "ZuGY2wUTjFDm"
      },
      "source": [
        "# Taylor series of $ln(x + 1)$\n",
        "\n",
        "$$ \n",
        "\\begin{array}{lll}\n",
        "ln (x + 1)  & =  & \\sum_{i=1}^{\\infty} (-1)^{i-1} \\frac{x^i}{i} \\\\\n",
        "\\end{array} \n",
        "$$\n",
        "\n",
        "\n",
        "Approximation \n",
        "$$ ln(x+1)  \\approx  x - \\frac{x^2}{2}  + \\frac{x^3}{3}  - \\cdots+ \\frac{x^n}{n}$$\n"
      ]
    },
    {
      "cell_type": "markdown",
      "metadata": {
        "id": "qylNUuxmQUzq"
      },
      "source": [
        "#What is value of the partial Taylor series of $ln(x+1)$ up to the  $10$-th term of $ln(x+1)$ about $0$ (Maclaurin  series) for $x=0.5$\n",
        "\n",
        "$$ ln(x+1)  \\approx  x - \\frac{x^2}{2}  + \\frac{x^3}{3}  - \\cdots+ \\frac{x^n}{n}$$"
      ]
    },
    {
      "cell_type": "code",
      "metadata": {
        "colab": {
          "base_uri": "https://localhost:8080/"
        },
        "id": "UZyEw-hiQNU7",
        "outputId": "db66c27e-ffd3-4302-b665-5c0a9dc70aa1"
      },
      "source": [
        "\n",
        "\n",
        "import math\n",
        "\n",
        "n = 10\n",
        "x = 0.5\n",
        "ln = 0\n",
        "\n",
        "for i in range(1,n+1):\n",
        "    ln += (-1)**(i-1)*x**i/i\n",
        "    print(i, 'ln ≈ ∑_{i=1}^'+str(i),'x^i/i =',ln)  \n",
        "    \n",
        "print('math.log(x+1) = ',math.log(x+1))"
      ],
      "execution_count": 1,
      "outputs": [
        {
          "output_type": "stream",
          "name": "stdout",
          "text": [
            "1 ln ≈ ∑_{i=1}^1 x^i/i = 0.5\n",
            "2 ln ≈ ∑_{i=1}^2 x^i/i = 0.375\n",
            "3 ln ≈ ∑_{i=1}^3 x^i/i = 0.4166666666666667\n",
            "4 ln ≈ ∑_{i=1}^4 x^i/i = 0.4010416666666667\n",
            "5 ln ≈ ∑_{i=1}^5 x^i/i = 0.40729166666666666\n",
            "6 ln ≈ ∑_{i=1}^6 x^i/i = 0.4046875\n",
            "7 ln ≈ ∑_{i=1}^7 x^i/i = 0.40580357142857143\n",
            "8 ln ≈ ∑_{i=1}^8 x^i/i = 0.40531529017857143\n",
            "9 ln ≈ ∑_{i=1}^9 x^i/i = 0.4055323040674603\n",
            "10 ln ≈ ∑_{i=1}^10 x^i/i = 0.4054346478174603\n",
            "math.log(x+1) =  0.4054651081081644\n"
          ]
        }
      ]
    },
    {
      "cell_type": "markdown",
      "source": [
        "# What is the minimun $n$ for which the error between the Taylor series for $ln(x+1)$ about $0$ (Maclaurin  series) for $x$ and *math.log(x+1)*, is in absolute value less than  $\\epsilon$.\n",
        "\n",
        "$$\\min_{n \\in \\mathbb{N}}\\left|\\sum_{i=1}^{n} (-1)^{i-1}\\frac{x^i}{i} - math.log(x+1) \\right| < \\epsilon$$"
      ],
      "metadata": {
        "id": "EQulygu91CbA"
      }
    },
    {
      "cell_type": "code",
      "metadata": {
        "colab": {
          "base_uri": "https://localhost:8080/"
        },
        "id": "EfkY5SM7pZBL",
        "outputId": "47e1119a-48b2-41c3-9361-ab29a7e35368"
      },
      "source": [
        "\n",
        "import math\n",
        "\n",
        "x = 0.5\n",
        "epsilon = 10**(-5)\n",
        "\n",
        "ln = 0\n",
        "\n",
        "print(\"n\".rjust(10),\" \",\"∑_{i=1}^n x^i/i\".center(21),\" \",\"delta =x^i/i \".center(21),\" \",\"error\".center(14),\" \",\"epsilon\".center(20))\n",
        "error = 1\n",
        "i = 1\n",
        "\n",
        "while  epsilon <= error:\n",
        "  delta =  (-1)**(i-1)*x**i / i \n",
        "  ln += delta\n",
        "  error = abs(math.log(x+1) - ln)\n",
        "  print(format(i, '10'),\"  \", format(ln, '.18f'),\"  \",format(delta, '.17f'),\" \",format(error, '.17f'),\"  \",\"{:.0e}\".format(epsilon)) \n",
        "  i = i+1\n",
        "\n",
        "\n",
        "print(\"n =\",i-1) \n",
        "print(\"x =\",x) \n",
        "print('ln ≈ ∑_{i=1}^'+str(i-1),'x^i/i =',ln)  \n",
        "print(\"epsilon =\",\"{:.0e}\".format(epsilon)) \n",
        "print('math.log(x+1) = ',math.log(x+1))"
      ],
      "execution_count": 2,
      "outputs": [
        {
          "output_type": "stream",
          "name": "stdout",
          "text": [
            "         n      ∑_{i=1}^n x^i/i          delta =x^i/i            error              epsilon       \n",
            "         1    0.500000000000000000    0.50000000000000000   0.09453489189183562    1e-05\n",
            "         2    0.375000000000000000    -0.12500000000000000   0.03046510810816438    1e-05\n",
            "         3    0.416666666666666685    0.04166666666666666   0.01120155855850230    1e-05\n",
            "         4    0.401041666666666685    -0.01562500000000000   0.00442344144149770    1e-05\n",
            "         5    0.407291666666666663    0.00625000000000000   0.00182655855850228    1e-05\n",
            "         6    0.404687499999999978    -0.00260416666666667   0.00077760810816441    1e-05\n",
            "         7    0.405803571428571430    0.00111607142857143   0.00033846332040705    1e-05\n",
            "         8    0.405315290178571430    -0.00048828125000000   0.00014981792959295    1e-05\n",
            "         9    0.405532304067460325    0.00021701388888889   0.00006719595929594    1e-05\n",
            "        10    0.405434647817460303    -0.00009765625000000   0.00003046029070408    1e-05\n",
            "        11    0.405479037022005773    0.00004438920454545   0.00001392891384139    1e-05\n",
            "        12    0.405458691969922458    -0.00002034505208333   0.00000641613824193    1e-05\n",
            "n = 12\n",
            "x = 0.5\n",
            "ln ≈ ∑_{i=1}^12 x^i/i = 0.40545869196992246\n",
            "epsilon = 1e-05\n",
            "math.log(x+1) =  0.4054651081081644\n"
          ]
        }
      ]
    },
    {
      "cell_type": "code",
      "source": [
        "   \n",
        "import math\n",
        "\n",
        "x = -0.5\n",
        "epsilon = 10**(-5)\n",
        "\n",
        "ln = 0\n",
        "\n",
        "print(\"n\".rjust(10),\" \",\"∑_{i=1}^n x^i/i\".center(21),\" \",\"delta =x^i/i \".center(21),\" \",\"error\".center(14),\" \",\"epsilon\".center(20))\n",
        "error = 1\n",
        "i = 1\n",
        "while  epsilon <= error:\n",
        "  delta =  (-1)**(i-1)*x**i / i \n",
        "  ln += delta\n",
        "  error = abs(math.log(x+1) - ln)\n",
        "  print(format(i, '10'),\"  \", format(ln, '.18f'),\"  \",format(delta, '.17f'),\" \",format(error, '.17f'),\"  \",\"{:.0e}\".format(epsilon)) \n",
        "  i = i+1\n",
        "\n",
        "\n",
        "print(\"n =\",i-1) \n",
        "print(\"x =\",x) \n",
        "print('ln ≈ ∑_{i=1}^'+str(i-1),'x^i/i =',ln)  \n",
        "print(\"epsilon =\",\"{:.0e}\".format(epsilon)) \n",
        "print('math.log(x+1) = ',math.log(x+1))"
      ],
      "metadata": {
        "colab": {
          "base_uri": "https://localhost:8080/"
        },
        "id": "3Pn3ahtECboG",
        "outputId": "725f5c14-cc38-4049-c381-6f4eb193df42"
      },
      "execution_count": 3,
      "outputs": [
        {
          "output_type": "stream",
          "name": "stdout",
          "text": [
            "         n      ∑_{i=1}^n x^i/i          delta =x^i/i            error              epsilon       \n",
            "         1    -0.500000000000000000    -0.50000000000000000   0.19314718055994529    1e-05\n",
            "         2    -0.625000000000000000    -0.12500000000000000   0.06814718055994529    1e-05\n",
            "         3    -0.666666666666666630    -0.04166666666666666   0.02648051389327866    1e-05\n",
            "         4    -0.682291666666666630    -0.01562500000000000   0.01085551389327866    1e-05\n",
            "         5    -0.688541666666666607    -0.00625000000000000   0.00460551389327868    1e-05\n",
            "         6    -0.691145833333333237    -0.00260416666666667   0.00200134722661205    1e-05\n",
            "         7    -0.692261904761904634    -0.00111607142857143   0.00088527579804065    1e-05\n",
            "         8    -0.692750186011904634    -0.00048828125000000   0.00039699454804065    1e-05\n",
            "         9    -0.692967199900793474    -0.00021701388888889   0.00017998065915181    1e-05\n",
            "        10    -0.693064856150793496    -0.00009765625000000   0.00008232440915179    1e-05\n",
            "        11    -0.693109245355338910    -0.00004438920454545   0.00003793520460638    1e-05\n",
            "        12    -0.693129590407422280    -0.00002034505208333   0.00001759015252301    1e-05\n",
            "        13    -0.693138980431460716    -0.00000939002403846   0.00000820012848457    1e-05\n",
            "n = 13\n",
            "x = -0.5\n",
            "ln ≈ ∑_{i=1}^13 x^i/i = -0.6931389804314607\n",
            "epsilon = 1e-05\n",
            "math.log(x+1) =  -0.6931471805599453\n"
          ]
        }
      ]
    },
    {
      "cell_type": "markdown",
      "metadata": {
        "id": "ZlcF8gIdjZ6t"
      },
      "source": [
        "# What is the minimun $n$ for which the $n$-th term of the Taylor series for $ln(x+1)$ about $0$ (Maclaurin  series) for $x$, is in absolute value less than  $\\epsilon$.\n",
        "\n",
        "$$\\min_{n \\in \\mathbb{N}}\\left|(-1)^{n-1}\\frac{x^{n}}{n}\\right| < \\epsilon$$"
      ]
    },
    {
      "cell_type": "code",
      "metadata": {
        "id": "_8y-XrmvcCLf",
        "colab": {
          "base_uri": "https://localhost:8080/"
        },
        "outputId": "1f67ab50-3145-4ea4-90b5-d70e130ff0c1"
      },
      "source": [
        "\n",
        "import math\n",
        "\n",
        "x = 0.5\n",
        "epsilon = 10**(-5)\n",
        "\n",
        "ln = 0\n",
        "\n",
        "delta = 1\n",
        "i = 1\n",
        "print(\"n\".rjust(10),\" \",\"∑_{i=1}^n x^i/i\".center(20),\" \",\" delta=x^n/n\".center(20),\" \",\"epsilon\".center(9))\n",
        "while  epsilon <= abs(delta):\n",
        "  delta = (-1)**(i-1)*x**i / i \n",
        "  ln += delta\n",
        "  print(format(i, '10'),\"  \", format(ln, '.17f'),\"  \",format(delta, '.17f'),\"  \",\"{:.0e}\".format(epsilon)) \n",
        "  i = i+1\n",
        "\n",
        "print(\"n = \",i-1) \n",
        "print('x = ',x)\n",
        "print('ln ≈ ∑_{i=1}^'+str(i-1),'x^i/i =',ln)\n",
        "print(\"epsilon =\",\"{:.0e}\".format(epsilon))     \n",
        "print('math.log(x+1) = ',math.log(x+1))"
      ],
      "execution_count": 4,
      "outputs": [
        {
          "output_type": "stream",
          "name": "stdout",
          "text": [
            "         n     ∑_{i=1}^n x^i/i           delta=x^n/n        epsilon \n",
            "         1    0.50000000000000000    0.50000000000000000    1e-05\n",
            "         2    0.37500000000000000    -0.12500000000000000    1e-05\n",
            "         3    0.41666666666666669    0.04166666666666666    1e-05\n",
            "         4    0.40104166666666669    -0.01562500000000000    1e-05\n",
            "         5    0.40729166666666666    0.00625000000000000    1e-05\n",
            "         6    0.40468749999999998    -0.00260416666666667    1e-05\n",
            "         7    0.40580357142857143    0.00111607142857143    1e-05\n",
            "         8    0.40531529017857143    -0.00048828125000000    1e-05\n",
            "         9    0.40553230406746033    0.00021701388888889    1e-05\n",
            "        10    0.40543464781746030    -0.00009765625000000    1e-05\n",
            "        11    0.40547903702200577    0.00004438920454545    1e-05\n",
            "        12    0.40545869196992246    -0.00002034505208333    1e-05\n",
            "        13    0.40546808199396089    0.00000939002403846    1e-05\n",
            "n =  13\n",
            "x =  0.5\n",
            "ln ≈ ∑_{i=1}^13 x^i/i = 0.4054680819939609\n",
            "epsilon = 1e-05\n",
            "math.log(x+1) =  0.4054651081081644\n"
          ]
        }
      ]
    },
    {
      "cell_type": "code",
      "metadata": {
        "colab": {
          "base_uri": "https://localhost:8080/"
        },
        "id": "Ifa0n-_ODOAj",
        "outputId": "a0aa0927-a2de-4ea9-8444-d83aa7eb3e7b"
      },
      "source": [
        "\n",
        "import math\n",
        "\n",
        "x = -0.5\n",
        "epsilon = 10**(-5)\n",
        "\n",
        "ln = 0\n",
        "\n",
        "delta = 1\n",
        "i = 1\n",
        "print(\"n\".rjust(10),\" \",\"∑_{i=1}^n x^i/i\".center(20),\" \",\" delta=x^n/n\".center(20),\" \",\"epsilon\".center(9))\n",
        "while  epsilon <= abs(delta):\n",
        "  delta = (-1)**(i-1)*x**i / i \n",
        "  ln += delta\n",
        "  print(format(i, '10'),\"  \", format(ln, '.17f'),\"  \",format(delta, '.17f'),\"  \",\"{:.0e}\".format(epsilon)) \n",
        "  i = i+1\n",
        "\n",
        "print(\"n = \",i-1) \n",
        "print('x = ',x)\n",
        "print('ln ≈ ∑_{i=1}^'+str(i-1),'x^i/i =',ln)\n",
        "print(\"epsilon =\",\"{:.0e}\".format(epsilon))     \n",
        "print('math.log(x+1) = ',math.log(x+1))"
      ],
      "execution_count": 5,
      "outputs": [
        {
          "output_type": "stream",
          "name": "stdout",
          "text": [
            "         n     ∑_{i=1}^n x^i/i           delta=x^n/n        epsilon \n",
            "         1    -0.50000000000000000    -0.50000000000000000    1e-05\n",
            "         2    -0.62500000000000000    -0.12500000000000000    1e-05\n",
            "         3    -0.66666666666666663    -0.04166666666666666    1e-05\n",
            "         4    -0.68229166666666663    -0.01562500000000000    1e-05\n",
            "         5    -0.68854166666666661    -0.00625000000000000    1e-05\n",
            "         6    -0.69114583333333324    -0.00260416666666667    1e-05\n",
            "         7    -0.69226190476190463    -0.00111607142857143    1e-05\n",
            "         8    -0.69275018601190463    -0.00048828125000000    1e-05\n",
            "         9    -0.69296719990079347    -0.00021701388888889    1e-05\n",
            "        10    -0.69306485615079350    -0.00009765625000000    1e-05\n",
            "        11    -0.69310924535533891    -0.00004438920454545    1e-05\n",
            "        12    -0.69312959040742228    -0.00002034505208333    1e-05\n",
            "        13    -0.69313898043146072    -0.00000939002403846    1e-05\n",
            "n =  13\n",
            "x =  -0.5\n",
            "ln ≈ ∑_{i=1}^13 x^i/i = -0.6931389804314607\n",
            "epsilon = 1e-05\n",
            "math.log(x+1) =  -0.6931471805599453\n"
          ]
        }
      ]
    },
    {
      "cell_type": "code",
      "metadata": {
        "colab": {
          "base_uri": "https://localhost:8080/"
        },
        "id": "9qMzfOv0C6PM",
        "outputId": "45734afe-3eea-4975-da59-cb91a6f14a17"
      },
      "source": [
        "\n",
        "import math\n",
        "\n",
        "x = 0.3\n",
        "epsilon = 10**(-5)\n",
        "\n",
        "ln = 0\n",
        "\n",
        "delta = 1\n",
        "i = 1\n",
        "print(\"n\".rjust(10),\" \",\"∑_{i=1}^n x^i/i\".center(20),\" \",\" deltax^n/n\".center(20),\" \",\"epsilon\".center(9))\n",
        "while  epsilon <= abs(delta):\n",
        "  delta = (-1)**(i-1)*x**i / i \n",
        "  ln += delta\n",
        "  print(format(i, '10'),\"  \", format(ln, '.17f'),\"  \",format(delta, '.17f'),\"  \",\"{:.0e}\".format(epsilon)) \n",
        "  i = i+1\n",
        "\n",
        "print(\"n = \",i-1) \n",
        "print('x = ',x)\n",
        "print('ln ≈ ∑_{i=1}^'+str(i-1),'x^i/i =',ln)\n",
        "print(\"epsilon =\",\"{:.0e}\".format(epsilon))     \n",
        "print('math.log(x+1) = ',math.log(x+1))"
      ],
      "execution_count": 6,
      "outputs": [
        {
          "output_type": "stream",
          "name": "stdout",
          "text": [
            "         n     ∑_{i=1}^n x^i/i           deltax^n/n         epsilon \n",
            "         1    0.29999999999999999    0.29999999999999999    1e-05\n",
            "         2    0.25500000000000000    -0.04500000000000000    1e-05\n",
            "         3    0.26400000000000001    0.00900000000000000    1e-05\n",
            "         4    0.26197500000000001    -0.00202500000000000    1e-05\n",
            "         5    0.26246100000000000    0.00048600000000000    1e-05\n",
            "         6    0.26233950000000000    -0.00012150000000000    1e-05\n",
            "         7    0.26237074285714285    0.00003124285714286    1e-05\n",
            "         8    0.26236254160714284    -0.00000820125000000    1e-05\n",
            "n =  8\n",
            "x =  0.3\n",
            "ln ≈ ∑_{i=1}^8 x^i/i = 0.26236254160714284\n",
            "epsilon = 1e-05\n",
            "math.log(x+1) =  0.26236426446749106\n"
          ]
        }
      ]
    },
    {
      "cell_type": "code",
      "source": [
        "\n",
        "import math\n",
        "\n",
        "x = -0.3\n",
        "epsilon = 10**(-5)\n",
        "\n",
        "ln = 0\n",
        "\n",
        "delta = 1\n",
        "i = 1\n",
        "print(\"n\".rjust(10),\" \",\"∑_{i=1}^n x^i/i\".center(20),\" \",\" delta=x^n/n\".center(20),\" \",\"epsilon\".center(9))\n",
        "while  epsilon <= abs(delta):\n",
        "  delta = (-1)**(i-1)*x**i / i \n",
        "  ln += delta\n",
        "  print(format(i, '10'),\"  \", format(ln, '.17f'),\"  \",format(delta, '.17f'),\"  \",\"{:.0e}\".format(epsilon)) \n",
        "  i = i+1\n",
        "\n",
        "print(\"n = \",i-1) \n",
        "print('x = ',x)\n",
        "print('ln ≈ ∑_{i=1}^'+str(i-1),'x^i/i =',ln)\n",
        "print(\"epsilon =\",\"{:.0e}\".format(epsilon))     \n",
        "print('math.log(x+1) = ',math.log(x+1))"
      ],
      "metadata": {
        "colab": {
          "base_uri": "https://localhost:8080/"
        },
        "id": "c3tgFlYc6sKn",
        "outputId": "a259a91a-c517-45a4-e759-9f399faa082b"
      },
      "execution_count": 7,
      "outputs": [
        {
          "output_type": "stream",
          "name": "stdout",
          "text": [
            "         n     ∑_{i=1}^n x^i/i           delta=x^n/n        epsilon \n",
            "         1    -0.29999999999999999    -0.29999999999999999    1e-05\n",
            "         2    -0.34499999999999997    -0.04500000000000000    1e-05\n",
            "         3    -0.35399999999999998    -0.00900000000000000    1e-05\n",
            "         4    -0.35602499999999998    -0.00202500000000000    1e-05\n",
            "         5    -0.35651099999999997    -0.00048600000000000    1e-05\n",
            "         6    -0.35663249999999996    -0.00012150000000000    1e-05\n",
            "         7    -0.35666374285714281    -0.00003124285714286    1e-05\n",
            "         8    -0.35667194410714281    -0.00000820125000000    1e-05\n",
            "n =  8\n",
            "x =  -0.3\n",
            "ln ≈ ∑_{i=1}^8 x^i/i = -0.3566719441071428\n",
            "epsilon = 1e-05\n",
            "math.log(x+1) =  -0.35667494393873245\n"
          ]
        }
      ]
    },
    {
      "cell_type": "markdown",
      "source": [
        "# Efficeincy \n",
        "Efficient \n",
        "\n"
      ],
      "metadata": {
        "id": "PBe8gYqRwB-Z"
      }
    },
    {
      "cell_type": "code",
      "source": [
        "\n",
        "\n",
        "import time\n",
        "\n",
        "start = time.time()\n",
        "\n",
        "x = 0.99\n",
        "epsilon = 10**(-20)\n",
        "\n",
        "delta = 1\n",
        "ln = 0\n",
        "i = 1\n",
        "\n",
        "while  epsilon <= abs(delta):\n",
        "  delta = (-1)**(i-1)*x**i / i \n",
        "  ln += delta\n",
        "  i = i+1\n",
        "\n",
        "end = time.time()\n",
        "\n",
        "print(\"n = \",i-1) \n",
        "print('x = ',x)\n",
        "print('ln ≈ ∑_{i=1}^'+str(i-1),'x^i/i =',ln)\n",
        "print(\"epsilon =\",\"{:.0e}\".format(epsilon))     \n",
        "print('mathlog(x+1) = ',math.log(x+1))\n",
        "print('time = ',end - start)"
      ],
      "metadata": {
        "colab": {
          "base_uri": "https://localhost:8080/"
        },
        "id": "uqmD3vEUQO8S",
        "outputId": "8b1e0c0b-e81d-4dff-ad42-626c7a068a5f"
      },
      "execution_count": 8,
      "outputs": [
        {
          "output_type": "stream",
          "name": "stdout",
          "text": [
            "n =  3763\n",
            "x =  0.99\n",
            "ln ≈ ∑_{i=1}^3763 x^i/i = 0.6881346387364031\n",
            "epsilon = 1e-20\n",
            "mathlog(x+1) =  0.688134638736401\n",
            "time =  0.0030019283294677734\n"
          ]
        }
      ]
    },
    {
      "cell_type": "code",
      "source": [
        "import time\n",
        "\n",
        "start = time.time()\n",
        "\n",
        "x = -0.99\n",
        "epsilon = 10**(-20)\n",
        "\n",
        "delta = 1\n",
        "ln = 0\n",
        "i = 1\n",
        "\n",
        "while  epsilon <= abs(delta):\n",
        "  delta = (-1)**(i-1)*x**i / i \n",
        "  ln += delta\n",
        "  i = i+1\n",
        "\n",
        "end = time.time()\n",
        "\n",
        "print(\"n = \",i-1) \n",
        "print('x = ',x)\n",
        "print('ln ≈ ∑_{i=1}^'+str(i-1),'x^i/i =',ln)\n",
        "print(\"epsilon =\",\"{:.0e}\".format(epsilon))     \n",
        "print('mathlog(x+1) = ',math.log(x+1))\n",
        "print('time = ',end - start)"
      ],
      "metadata": {
        "colab": {
          "base_uri": "https://localhost:8080/"
        },
        "id": "4SidsY8ylmM7",
        "outputId": "d7ffadf1-94c2-4077-b3ab-cb901a1c2316"
      },
      "execution_count": 9,
      "outputs": [
        {
          "output_type": "stream",
          "name": "stdout",
          "text": [
            "n =  3763\n",
            "x =  -0.99\n",
            "ln ≈ ∑_{i=1}^3763 x^i/i = -4.605170185988059\n",
            "epsilon = 1e-20\n",
            "mathlog(x+1) =  -4.605170185988091\n",
            "time =  0.004873514175415039\n"
          ]
        }
      ]
    },
    {
      "cell_type": "markdown",
      "metadata": {
        "id": "TxhZ8nnZpvbt"
      },
      "source": [
        "# Error using the Lagrange's formula of the Residual $E_n$\n",
        "\n",
        "* Form: Numerical Analysis Mathematics of Scientific Computing David Kincaid and Ward Cheney and Error estimates in Taylor approximations https://math.dartmouth.edu/~m8s17/ErrorEstimates.pdf\n",
        "\n",
        "## Lagrange's formula of the Residual\n",
        "For the Taylor series for $f(x)$\n",
        "\n",
        "$$ E_n = \\frac{f^{(n+1)}(\\xi)}{(n+1)!}(x-c)^{(n+1)} \\text{ for }  \\xi \\text{ between } c \\text{ and } x $$\n",
        "\n",
        "If you can find a positive real number $M$such that \n",
        "$$\\left|f^{(n+1)}(\\xi)\\right|  \\le M \\text{ for }  \\xi \\text{ between } c \\text{ and } x $$ for all\n",
        " then Lagrange’s formula tells you\n",
        "that\n",
        "$$ \\left| E_n \\right| \\le  \\frac{M}{(n+1)!}\n",
        "\\left|x − c\\right|^{(n+1)} $$\n",
        "\n",
        "For the Taylor series for $f(x) = ln(x+1)$ about $c=0$ (Maclaurin) \n",
        "\n",
        "$$ \\left|E_n \\right| =  \\left|\\frac{f^{(n+1)}(\\xi)}{(n+1)!}(x-c)^{(n+1)} \\right| = \\left|\\frac{(-1)^n(n)!(1+\\xi)^n}{(n+1)!}x^{(n+1)} \\right| \\le \\left| \\frac{(-1)^n(n)!(1+x)^n}{(n+1)!}x^{(n+1)} \\right| $$\n",
        "\n",
        "\n",
        "\n"
      ]
    },
    {
      "cell_type": "markdown",
      "metadata": {
        "id": "y1fLchcRq-mT"
      },
      "source": [
        "# What is the minimun $n$ for which the error using absolute value of the Lagrange's formula of the Residual $|E_n|$, of the Taylor series for $e^x$ about $0$ (Maclaurin  series), is less than  $\\epsilon$.\n",
        "\n",
        "$$ \\min_{n \\in \\mathbb{N}}|E_n|  < \\epsilon $$\n",
        "\n",
        "this is\n",
        "\n",
        "$$\\min_{n \\in \\mathbb{N}}\\left\\{  \\left|\\frac{(-1)^n(n)!(1+x)^n}{(n+1)!}x^{(n+1)} \\right| \\right\\} < \\epsilon $$\n",
        " "
      ]
    },
    {
      "cell_type": "code",
      "metadata": {
        "colab": {
          "base_uri": "https://localhost:8080/"
        },
        "id": "hBLCJ5mUqu4T",
        "outputId": "d14aee40-0cff-4b1a-aadf-1004f882ef2c"
      },
      "source": [
        "\n",
        "\n",
        "import math\n",
        "\n",
        "x = 0.5\n",
        "epsilon = 10**(-5)\n",
        "\n",
        "ln = 0\n",
        "\n",
        "print(\"n\".rjust(10),\" \",\"∑_{i=1}^n x^i/i\".center(21),\" \",\"|Lagrange_Residual_n|\".center(20),\" \",\"epsilon\".center(20))\n",
        "error = 1\n",
        "i = 1\n",
        "while  epsilon <= abs(error):\n",
        "  ln +=  (-1)**(i-1)*x**i / i\n",
        "  error = (-1)**(i)*(1+x)**i*x**(i+1)/(i+1)\n",
        "  print(format(i, '10'),\"  \", format(ln, '.17f'),\"  \",format(error, '.17f'),\"  \",\"{:.0e}\".format(epsilon)) \n",
        "  i = i+1\n",
        "  \n",
        "print(\"n = \",i-1) \n",
        "print('x = ',x)\n",
        "print('ln ≈ ∑_{i=1}^'+str(i-1),'x^i/i =',ln)\n",
        "print(\"epsilon =\",\"{:.0e}\".format(epsilon))   \n",
        "print('math.log(x+1) = ',math.log(x+1))"
      ],
      "execution_count": 10,
      "outputs": [
        {
          "output_type": "stream",
          "name": "stdout",
          "text": [
            "         n      ∑_{i=1}^n x^i/i      |Lagrange_Residual_n|         epsilon       \n",
            "         1    0.50000000000000000    -0.18750000000000000    1e-05\n",
            "         2    0.37500000000000000    0.09375000000000000    1e-05\n",
            "         3    0.41666666666666669    -0.05273437500000000    1e-05\n",
            "         4    0.40104166666666669    0.03164062500000000    1e-05\n",
            "         5    0.40729166666666666    -0.01977539062500000    1e-05\n",
            "         6    0.40468749999999998    0.01271275111607143    1e-05\n",
            "         7    0.40580357142857143    -0.00834274291992188    1e-05\n",
            "         8    0.40531529017857143    0.00556182861328125    1e-05\n",
            "         9    0.40553230406746033    -0.00375423431396484    1e-05\n",
            "        10    0.40543464781746030    0.00255970521406694    1e-05\n",
            "        11    0.40547903702200577    -0.00175979733467102    1e-05\n",
            "        12    0.40545869196992246    0.00121832123169532    1e-05\n",
            "        13    0.40546808199396089    -0.00084847371493067    1e-05\n",
            "        14    0.40546372233994304    0.00059393160045147    1e-05\n",
            "        15    0.40546575684515140    -0.00041760815656744    1e-05\n",
            "        16    0.40546480317083500    0.00029478222816525    1e-05\n",
            "        17    0.40546525195874861    -0.00020880407828372    1e-05\n",
            "        18    0.40546504003112271    0.00014836079246475    1e-05\n",
            "        19    0.40546514041789289    -0.00010570706463113    1e-05\n",
            "        20    0.40546509273417708    0.00007550504616510    1e-05\n",
            "        21    0.40546511544070840    -0.00005405474895910    1e-05\n",
            "        22    0.40546510460350027    0.00003877840686196    1e-05\n",
            "        23    0.40546510978651285    -0.00002787197993204    1e-05\n",
            "        24    0.40546510730298596    0.00002006782555107    1e-05\n",
            "        25    0.40546510849507883    -0.00001447198958010    1e-05\n",
            "        26    0.40546510792195722    0.00001045199247451    1e-05\n",
            "        27    0.40546510819790466    -0.00000755903027175    1e-05\n",
            "n =  27\n",
            "x =  0.5\n",
            "ln ≈ ∑_{i=1}^27 x^i/i = 0.40546510819790466\n",
            "epsilon = 1e-05\n",
            "math.log(x+1) =  0.4054651081081644\n"
          ]
        }
      ]
    },
    {
      "cell_type": "code",
      "source": [
        "import math\n",
        "\n",
        "x = -0.5\n",
        "epsilon = 10**(-5)\n",
        "\n",
        "ln = 0\n",
        "\n",
        "print(\"n\".rjust(10),\" \",\"∑_{i=1}^n x^i/i\".center(21),\" \",\"|Lagrange_Residual_n|\".center(20),\" \",\"epsilon\".center(20))\n",
        "error = 1\n",
        "i = 1\n",
        "while  epsilon <= abs(error):\n",
        "  ln +=  (-1)**(i-1)*x**i / i\n",
        "  error = (-1)**(i)*(1+x)**i*x**(i+1)/(i+1)\n",
        "  print(format(i, '10'),\"  \", format(ln, '.17f'),\"  \",format(error, '.17f'),\"  \",\"{:.0e}\".format(epsilon)) \n",
        "  i = i+1\n",
        "  \n",
        "print(\"n = \",i-1) \n",
        "print('x = ',x)\n",
        "print('ln ≈ ∑_{i=1}^'+str(i-1),'x^i/i =',ln)\n",
        "print(\"epsilon =\",\"{:.0e}\".format(epsilon))   \n",
        "print('math.log(x+1) = ',math.log(x+1))"
      ],
      "metadata": {
        "colab": {
          "base_uri": "https://localhost:8080/"
        },
        "id": "EzCCSnD15R0X",
        "outputId": "014e7917-6d36-4aee-a480-e706beab2ed4"
      },
      "execution_count": 11,
      "outputs": [
        {
          "output_type": "stream",
          "name": "stdout",
          "text": [
            "         n      ∑_{i=1}^n x^i/i      |Lagrange_Residual_n|         epsilon       \n",
            "         1    -0.50000000000000000    -0.06250000000000000    1e-05\n",
            "         2    -0.62500000000000000    -0.01041666666666667    1e-05\n",
            "         3    -0.66666666666666663    -0.00195312500000000    1e-05\n",
            "         4    -0.68229166666666663    -0.00039062500000000    1e-05\n",
            "         5    -0.68854166666666661    -0.00008138020833333    1e-05\n",
            "         6    -0.69114583333333324    -0.00001743861607143    1e-05\n",
            "         7    -0.69226190476190463    -0.00000381469726562    1e-05\n",
            "n =  7\n",
            "x =  -0.5\n",
            "ln ≈ ∑_{i=1}^7 x^i/i = -0.6922619047619046\n",
            "epsilon = 1e-05\n",
            "math.log(x+1) =  -0.6931471805599453\n"
          ]
        }
      ]
    },
    {
      "cell_type": "markdown",
      "source": [
        "#  Sympy\n",
        "\n",
        "Taylor Series Expansion with Python from Data Science Fabric\n",
        "\n",
        "https://dsfabric.org/taylor-series-expansion-with-python"
      ],
      "metadata": {
        "id": "cx2-LoLzahoa"
      }
    },
    {
      "cell_type": "code",
      "source": [
        "from sympy import series, Symbol, pi, E, N\n",
        "from sympy.functions import ln\n",
        "from sympy.plotting import plot\n",
        "import matplotlib.pyplot as plt"
      ],
      "metadata": {
        "id": "hGQPpZ8gaVWN"
      },
      "execution_count": 12,
      "outputs": []
    },
    {
      "cell_type": "code",
      "source": [
        "# Define symbol\n",
        "x = Symbol('x')"
      ],
      "metadata": {
        "id": "qiHCCJ3napkY"
      },
      "execution_count": 13,
      "outputs": []
    },
    {
      "cell_type": "code",
      "source": [
        "# Function for Taylor Series Expansion\n",
        "\n",
        "def taylor(function, x0, n):\n",
        "    \"\"\"\n",
        "    Parameter \"function\" is our function which we want to approximate\n",
        "    \"x0\" is the point where to approximate\n",
        "    \"n\" is the order of approximation\n",
        "    \"\"\"\n",
        "    return function.series(x,x0,n)"
      ],
      "metadata": {
        "id": "z9fkRjbJatry"
      },
      "execution_count": 14,
      "outputs": []
    },
    {
      "cell_type": "code",
      "source": [
        "print('ln(x+1)  ≅')\n",
        "taylor(ln(x+1), 0, 8)"
      ],
      "metadata": {
        "colab": {
          "base_uri": "https://localhost:8080/",
          "height": 71
        },
        "id": "bEtq3o7Waym6",
        "outputId": "ab214230-dea0-4491-8d1a-11557120a29c"
      },
      "execution_count": 15,
      "outputs": [
        {
          "output_type": "stream",
          "name": "stdout",
          "text": [
            "ln(x+1)  ≅\n"
          ]
        },
        {
          "output_type": "execute_result",
          "data": {
            "text/plain": [
              "x - x**2/2 + x**3/3 - x**4/4 + x**5/5 - x**6/6 + x**7/7 + O(x**8)"
            ],
            "text/latex": "$\\displaystyle x - \\frac{x^{2}}{2} + \\frac{x^{3}}{3} - \\frac{x^{4}}{4} + \\frac{x^{5}}{5} - \\frac{x^{6}}{6} + \\frac{x^{7}}{7} + O\\left(x^{8}\\right)$"
          },
          "metadata": {},
          "execution_count": 15
        }
      ]
    },
    {
      "cell_type": "code",
      "source": [
        "print('ln(x+1) ≅', taylor(ln(x+1), 0, 8))"
      ],
      "metadata": {
        "colab": {
          "base_uri": "https://localhost:8080/"
        },
        "id": "VU2Q0vuYa_xQ",
        "outputId": "5582adc6-278d-431d-a2a3-1e2d583ee7bf"
      },
      "execution_count": 16,
      "outputs": [
        {
          "output_type": "stream",
          "name": "stdout",
          "text": [
            "ln(x+1) ≅ x - x**2/2 + x**3/3 - x**4/4 + x**5/5 - x**6/6 + x**7/7 + O(x**8)\n"
          ]
        }
      ]
    },
    {
      "cell_type": "code",
      "source": [
        "print('ln(x+1) ≅ at around 0.1')\n",
        "taylor(ln(x+1), 0.1, 8)"
      ],
      "metadata": {
        "colab": {
          "base_uri": "https://localhost:8080/",
          "height": 130
        },
        "id": "iX0DNQdrbtdY",
        "outputId": "746b2539-55bc-426a-97d0-7f4c7710569b"
      },
      "execution_count": 17,
      "outputs": [
        {
          "output_type": "stream",
          "name": "stdout",
          "text": [
            "ln(x+1) ≅ at around 0.1\n"
          ]
        },
        {
          "output_type": "execute_result",
          "data": {
            "text/plain": [
              "0.00440108889523402 - 0.413223140495868*(x - 0.1)**2 + 0.250438266967193*(x - 0.1)**3 - 0.170753363841268*(x - 0.1)**4 + 0.124184264611831*(x - 0.1)**5 - 0.0940789883422962*(x - 0.1)**6 + 0.0733083026043867*(x - 0.1)**7 + 0.909090909090909*x + O((x - 1/10)**8, (x, 1/10))"
            ],
            "text/latex": "$\\displaystyle 0.00440108889523402 - 0.413223140495868 \\left(x - 0.1\\right)^{2} + 0.250438266967193 \\left(x - 0.1\\right)^{3} - 0.170753363841268 \\left(x - 0.1\\right)^{4} + 0.124184264611831 \\left(x - 0.1\\right)^{5} - 0.0940789883422962 \\left(x - 0.1\\right)^{6} + 0.0733083026043867 \\left(x - 0.1\\right)^{7} + 0.909090909090909 x + O\\left(\\left(x - \\frac{1}{10}\\right)^{8}; x\\rightarrow \\frac{1}{10}\\right)$"
          },
          "metadata": {},
          "execution_count": 17
        }
      ]
    },
    {
      "cell_type": "code",
      "source": [
        "print('ln(1.5) =', taylor(ln(x+1), 0, 4).subs(x,0.5))"
      ],
      "metadata": {
        "colab": {
          "base_uri": "https://localhost:8080/"
        },
        "id": "0sfHK6K4b7KQ",
        "outputId": "bb3cb5e1-5e94-4596-886f-8f2aa6a622c2"
      },
      "execution_count": 18,
      "outputs": [
        {
          "output_type": "stream",
          "name": "stdout",
          "text": [
            "ln(1.5) = O(1)\n"
          ]
        }
      ]
    },
    {
      "cell_type": "code",
      "source": [
        "print('ln(1.5) =', N(taylor(ln(x+1), 0, 4).subs(x,0.5)))"
      ],
      "metadata": {
        "colab": {
          "base_uri": "https://localhost:8080/"
        },
        "id": "t64ikINpcL-v",
        "outputId": "56afbf91-f78d-4ebc-be2e-e2601ddfea13"
      },
      "execution_count": 19,
      "outputs": [
        {
          "output_type": "stream",
          "name": "stdout",
          "text": [
            "ln(1.5) = O(1)\n"
          ]
        }
      ]
    },
    {
      "cell_type": "code",
      "source": [
        "print('Taylor 1 ln(x+1) ≅', taylor(ln(x+1), 0, 2))\n",
        "print('Taylor 2 ln(x+1) ≅', taylor(ln(x+1), 0, 3))\n",
        "print('Taylor 3 ln(x+1) ≅', taylor(ln(x+1), 0, 4))\n",
        "print('Taylor 4 ln(x+1) ≅', taylor(ln(x+1), 0, 5))\n",
        "print('Taylor 5 ln(x+1) ≅', taylor(ln(x+1), 0, 6))\n",
        "print('Taylor 6 ln(x+1) ≅', taylor(ln(x+1), 0, 7))\n",
        "print('Taylor 7 ln(x+1) ≅', taylor(ln(x+1), 0, 8))"
      ],
      "metadata": {
        "colab": {
          "base_uri": "https://localhost:8080/"
        },
        "id": "ytUFqliacVnQ",
        "outputId": "f9b40177-b43c-4387-8d6c-031e13920f8c"
      },
      "execution_count": 20,
      "outputs": [
        {
          "output_type": "stream",
          "name": "stdout",
          "text": [
            "Taylor 1 ln(x+1) ≅ x + O(x**2)\n",
            "Taylor 2 ln(x+1) ≅ x - x**2/2 + O(x**3)\n",
            "Taylor 3 ln(x+1) ≅ x - x**2/2 + x**3/3 + O(x**4)\n",
            "Taylor 4 ln(x+1) ≅ x - x**2/2 + x**3/3 - x**4/4 + O(x**5)\n",
            "Taylor 5 ln(x+1) ≅ x - x**2/2 + x**3/3 - x**4/4 + x**5/5 + O(x**6)\n",
            "Taylor 6 ln(x+1) ≅ x - x**2/2 + x**3/3 - x**4/4 + x**5/5 - x**6/6 + O(x**7)\n",
            "Taylor 7 ln(x+1) ≅ x - x**2/2 + x**3/3 - x**4/4 + x**5/5 - x**6/6 + x**7/7 + O(x**8)\n"
          ]
        }
      ]
    },
    {
      "cell_type": "code",
      "source": [
        "print('Taylor 1 ln(x+1) ≅', taylor(ln(x+1), 0, 2).subs(x,0.5))\n",
        "print('Taylor 2 ln(x+1) ≅', taylor(ln(x+1), 0, 3).subs(x,0.5))\n",
        "print('Taylor 3 ln(x+1) ≅', taylor(ln(x+1), 0, 4).subs(x,0.5))\n",
        "print('Taylor 4 ln(x+1) ≅', taylor(ln(x+1), 0, 5).subs(x,0.5))\n",
        "print('Taylor 5 ln(x+1) ≅', taylor(ln(x+1), 0, 6).subs(x,0.5))\n",
        "print('Taylor 6 ln(x+1) ≅', taylor(ln(x+1), 0, 7).subs(x,0.5))\n",
        "print('Taylor 7 ln(x+1) ≅', taylor(ln(x+1), 0, 8).subs(x,0.5))"
      ],
      "metadata": {
        "colab": {
          "base_uri": "https://localhost:8080/"
        },
        "id": "iGvi9RgacapA",
        "outputId": "4489b71e-e38d-4702-af90-a680335978cf"
      },
      "execution_count": 21,
      "outputs": [
        {
          "output_type": "stream",
          "name": "stdout",
          "text": [
            "Taylor 1 ln(x+1) ≅ O(1)\n",
            "Taylor 2 ln(x+1) ≅ O(1)\n",
            "Taylor 3 ln(x+1) ≅ O(1)\n",
            "Taylor 4 ln(x+1) ≅ O(1)\n",
            "Taylor 5 ln(x+1) ≅ O(1)\n",
            "Taylor 6 ln(x+1) ≅ O(1)\n",
            "Taylor 7 ln(x+1) ≅ O(1)\n"
          ]
        }
      ]
    },
    {
      "cell_type": "code",
      "source": [
        "print('Taylor 1 ln(x+1) ≅', N(taylor(ln(x+1), 0, 2).subs(x,0.5)))\n",
        "print('Taylor 2 ln(x+1) ≅', N(taylor(ln(x+1), 0, 3).subs(x,0.5)))\n",
        "print('Taylor 3 ln(x+1) ≅', N(taylor(ln(x+1), 0, 4).subs(x,0.5)))\n",
        "print('Taylor 4 ln(x+1) ≅', N(taylor(ln(x+1), 0, 5).subs(x,0.5)))\n",
        "print('Taylor 5 ln(x+1) ≅', N(taylor(ln(x+1), 0, 6).subs(x,0.5)))\n",
        "print('Taylor 6 ln(x+1) ≅', N(taylor(ln(x+1), 0, 7).subs(x,0.5)))\n",
        "print('Taylor 7 ln(x+1) ≅', N(taylor(ln(x+1), 0, 8).subs(x,0.5)))"
      ],
      "metadata": {
        "colab": {
          "base_uri": "https://localhost:8080/"
        },
        "id": "N_VVBah_crmQ",
        "outputId": "57378837-9518-4b76-bca9-8df0a767f744"
      },
      "execution_count": 22,
      "outputs": [
        {
          "output_type": "stream",
          "name": "stdout",
          "text": [
            "Taylor 1 ln(x+1) ≅ O(1)\n",
            "Taylor 2 ln(x+1) ≅ O(1)\n",
            "Taylor 3 ln(x+1) ≅ O(1)\n",
            "Taylor 4 ln(x+1) ≅ O(1)\n",
            "Taylor 5 ln(x+1) ≅ O(1)\n",
            "Taylor 6 ln(x+1) ≅ O(1)\n",
            "Taylor 7 ln(x+1) ≅ O(1)\n"
          ]
        }
      ]
    },
    {
      "cell_type": "code",
      "source": [
        "# Function for Taylor Series Expansion\n",
        "\n",
        "def taylor(function, x0, n):\n",
        "    \"\"\"\n",
        "    Parameter \"function\" is our function which we want to approximate\n",
        "    \"x0\" is the point where to approximate\n",
        "    \"n\" is the order of approximation\n",
        "    \"\"\"\n",
        "    return function.series(x,x0,n).removeO()"
      ],
      "metadata": {
        "id": "Gv65YRzdc3qQ"
      },
      "execution_count": 23,
      "outputs": []
    },
    {
      "cell_type": "code",
      "source": [
        "print('ln(x+1)  ≅')\n",
        "taylor(ln(x+1), 0, 8)"
      ],
      "metadata": {
        "colab": {
          "base_uri": "https://localhost:8080/",
          "height": 71
        },
        "id": "EQtZRYJpc5Ro",
        "outputId": "707105d2-a85c-44a6-d80e-1b052167a755"
      },
      "execution_count": 24,
      "outputs": [
        {
          "output_type": "stream",
          "name": "stdout",
          "text": [
            "ln(x+1)  ≅\n"
          ]
        },
        {
          "output_type": "execute_result",
          "data": {
            "text/plain": [
              "x**7/7 - x**6/6 + x**5/5 - x**4/4 + x**3/3 - x**2/2 + x"
            ],
            "text/latex": "$\\displaystyle \\frac{x^{7}}{7} - \\frac{x^{6}}{6} + \\frac{x^{5}}{5} - \\frac{x^{4}}{4} + \\frac{x^{3}}{3} - \\frac{x^{2}}{2} + x$"
          },
          "metadata": {},
          "execution_count": 24
        }
      ]
    },
    {
      "cell_type": "code",
      "source": [
        "print('ln(x+1) ≅', taylor(ln(x+1), 0, 8))"
      ],
      "metadata": {
        "colab": {
          "base_uri": "https://localhost:8080/"
        },
        "id": "DcPjj8PWdBap",
        "outputId": "fa71337a-f0bf-4845-a11e-c6ffc45841a1"
      },
      "execution_count": 25,
      "outputs": [
        {
          "output_type": "stream",
          "name": "stdout",
          "text": [
            "ln(x+1) ≅ x**7/7 - x**6/6 + x**5/5 - x**4/4 + x**3/3 - x**2/2 + x\n"
          ]
        }
      ]
    },
    {
      "cell_type": "code",
      "source": [
        "print('ln ≅ at around 0.1')\n",
        "taylor(ln(x+1), 0.1, 8)"
      ],
      "metadata": {
        "colab": {
          "base_uri": "https://localhost:8080/",
          "height": 79
        },
        "outputId": "00de8607-bf2c-455e-ccb6-80a6b6a2accc",
        "id": "OXZgOve0dS67"
      },
      "execution_count": 26,
      "outputs": [
        {
          "output_type": "stream",
          "name": "stdout",
          "text": [
            "ln ≅ at around 0.1\n"
          ]
        },
        {
          "output_type": "execute_result",
          "data": {
            "text/plain": [
              "0.909090909090909*x + 0.0733083026043867*(x - 0.1)**7 - 0.0940789883422962*(x - 0.1)**6 + 0.124184264611831*(x - 0.1)**5 - 0.170753363841268*(x - 0.1)**4 + 0.250438266967193*(x - 0.1)**3 - 0.413223140495868*(x - 0.1)**2 + 0.00440108889523402"
            ],
            "text/latex": "$\\displaystyle 0.909090909090909 x + 0.0733083026043867 \\left(x - 0.1\\right)^{7} - 0.0940789883422962 \\left(x - 0.1\\right)^{6} + 0.124184264611831 \\left(x - 0.1\\right)^{5} - 0.170753363841268 \\left(x - 0.1\\right)^{4} + 0.250438266967193 \\left(x - 0.1\\right)^{3} - 0.413223140495868 \\left(x - 0.1\\right)^{2} + 0.00440108889523402$"
          },
          "metadata": {},
          "execution_count": 26
        }
      ]
    },
    {
      "cell_type": "code",
      "source": [
        "print('ln(1.5) =', taylor(ln(x+1), 0, 4).subs(x,0.5))"
      ],
      "metadata": {
        "colab": {
          "base_uri": "https://localhost:8080/"
        },
        "outputId": "1a64f913-b9ec-4799-9279-eea968489df7",
        "id": "8OvEA2B8dS69"
      },
      "execution_count": 27,
      "outputs": [
        {
          "output_type": "stream",
          "name": "stdout",
          "text": [
            "ln(1.5) = 0.416666666666667\n"
          ]
        }
      ]
    },
    {
      "cell_type": "code",
      "source": [
        "print('ln(1.5) =', N(taylor(ln(x+1), 0, 4).subs(x,0.5)))"
      ],
      "metadata": {
        "colab": {
          "base_uri": "https://localhost:8080/"
        },
        "outputId": "443811eb-a7b3-48ed-c6e7-4fc035b6c678",
        "id": "HjQaTc7QdS6-"
      },
      "execution_count": 28,
      "outputs": [
        {
          "output_type": "stream",
          "name": "stdout",
          "text": [
            "ln(1.5) = 0.416666666666667\n"
          ]
        }
      ]
    },
    {
      "cell_type": "code",
      "source": [
        "print('Taylor 1 ln(x+1) ≅', taylor(ln(x+1), 0, 2))\n",
        "print('Taylor 2 ln(x+1) ≅', taylor(ln(x+1), 0, 3))\n",
        "print('Taylor 3 ln(x+1) ≅', taylor(ln(x+1), 0, 4))\n",
        "print('Taylor 4 ln(x+1) ≅', taylor(ln(x+1), 0, 5))\n",
        "print('Taylor 5 ln(x+1) ≅', taylor(ln(x+1), 0, 6))\n",
        "print('Taylor 6 ln(x+1) ≅', taylor(ln(x+1), 0, 7))\n",
        "print('Taylor 7 ln(x+1) ≅', taylor(ln(x+1), 0, 8))"
      ],
      "metadata": {
        "colab": {
          "base_uri": "https://localhost:8080/"
        },
        "outputId": "0a01ea8a-bba6-4bae-8eca-bb5c4a07d477",
        "id": "8H_qhh0OdS6-"
      },
      "execution_count": 29,
      "outputs": [
        {
          "output_type": "stream",
          "name": "stdout",
          "text": [
            "Taylor 1 ln(x+1) ≅ x\n",
            "Taylor 2 ln(x+1) ≅ -x**2/2 + x\n",
            "Taylor 3 ln(x+1) ≅ x**3/3 - x**2/2 + x\n",
            "Taylor 4 ln(x+1) ≅ -x**4/4 + x**3/3 - x**2/2 + x\n",
            "Taylor 5 ln(x+1) ≅ x**5/5 - x**4/4 + x**3/3 - x**2/2 + x\n",
            "Taylor 6 ln(x+1) ≅ -x**6/6 + x**5/5 - x**4/4 + x**3/3 - x**2/2 + x\n",
            "Taylor 7 ln(x+1) ≅ x**7/7 - x**6/6 + x**5/5 - x**4/4 + x**3/3 - x**2/2 + x\n"
          ]
        }
      ]
    },
    {
      "cell_type": "code",
      "source": [
        "print('Taylor 1 ln(x+1) ≅', taylor(ln(x+1), 0, 2).subs(x,0.5))\n",
        "print('Taylor 2 ln(x+1) ≅', taylor(ln(x+1), 0, 3).subs(x,0.5))\n",
        "print('Taylor 3 ln(x+1) ≅', taylor(ln(x+1), 0, 4).subs(x,0.5))\n",
        "print('Taylor 4 ln(x+1) ≅', taylor(ln(x+1), 0, 5).subs(x,0.5))\n",
        "print('Taylor 5 ln(x+1) ≅', taylor(ln(x+1), 0, 6).subs(x,0.5))\n",
        "print('Taylor 6 ln(x+1) ≅', taylor(ln(x+1), 0, 7).subs(x,0.5))\n",
        "print('Taylor 7 ln(x+1) ≅', taylor(ln(x+1), 0, 8).subs(x,0.5))"
      ],
      "metadata": {
        "colab": {
          "base_uri": "https://localhost:8080/"
        },
        "outputId": "1f1e26cd-b017-44b8-bccd-72ff11e8140d",
        "id": "Nlwipl8zdS6_"
      },
      "execution_count": 30,
      "outputs": [
        {
          "output_type": "stream",
          "name": "stdout",
          "text": [
            "Taylor 1 ln(x+1) ≅ 0.500000000000000\n",
            "Taylor 2 ln(x+1) ≅ 0.375000000000000\n",
            "Taylor 3 ln(x+1) ≅ 0.416666666666667\n",
            "Taylor 4 ln(x+1) ≅ 0.401041666666667\n",
            "Taylor 5 ln(x+1) ≅ 0.407291666666667\n",
            "Taylor 6 ln(x+1) ≅ 0.404687500000000\n",
            "Taylor 7 ln(x+1) ≅ 0.405803571428571\n"
          ]
        }
      ]
    },
    {
      "cell_type": "code",
      "source": [
        "print('Taylor 1 ln(x+1) ≅', N(taylor(ln(x+1), 0, 2).subs(x,0.5)))\n",
        "print('Taylor 2 ln(x+1) ≅', N(taylor(ln(x+1), 0, 3).subs(x,0.5)))\n",
        "print('Taylor 3 ln(x+1) ≅', N(taylor(ln(x+1), 0, 4).subs(x,0.5)))\n",
        "print('Taylor 4 ln(x+1) ≅', N(taylor(ln(x+1), 0, 5).subs(x,0.5)))\n",
        "print('Taylor 5 ln(x+1) ≅', N(taylor(ln(x+1), 0, 6).subs(x,0.5)))\n",
        "print('Taylor 6 ln(x+1) ≅', N(taylor(ln(x+1), 0, 7).subs(x,0.5)))\n",
        "print('Taylor 7 ln(x+1) ≅', N(taylor(ln(x+1), 0, 8).subs(x,0.5)))"
      ],
      "metadata": {
        "colab": {
          "base_uri": "https://localhost:8080/"
        },
        "outputId": "3d047ee1-d14c-44e8-8dec-a9203c521dcc",
        "id": "xAotZ1UMdS7A"
      },
      "execution_count": 31,
      "outputs": [
        {
          "output_type": "stream",
          "name": "stdout",
          "text": [
            "Taylor 1 ln(x+1) ≅ 0.500000000000000\n",
            "Taylor 2 ln(x+1) ≅ 0.375000000000000\n",
            "Taylor 3 ln(x+1) ≅ 0.416666666666667\n",
            "Taylor 4 ln(x+1) ≅ 0.401041666666667\n",
            "Taylor 5 ln(x+1) ≅ 0.407291666666667\n",
            "Taylor 6 ln(x+1) ≅ 0.404687500000000\n",
            "Taylor 7 ln(x+1) ≅ 0.405803571428571\n"
          ]
        }
      ]
    },
    {
      "cell_type": "code",
      "source": [],
      "metadata": {
        "id": "WOokw4Updmb7"
      },
      "execution_count": 31,
      "outputs": []
    },
    {
      "cell_type": "code",
      "metadata": {
        "colab": {
          "base_uri": "https://localhost:8080/",
          "height": 435
        },
        "id": "XvqxBhg8O7Oi",
        "outputId": "37cb176d-fe55-4ae8-db79-0458e2fce715"
      },
      "source": [
        "import math\n",
        "import numpy as np\n",
        "import matplotlib.pyplot as plt\n",
        "# if using a Jupyter notebook, include:\n",
        "%matplotlib inline\n",
        "\n",
        "values = np.arange(-0.99,1,0.01)\n",
        "p_ln = np.log(values+1)\n",
        "t_ln1 = [taylor(ln(x+1), 0, 2).subs(x,v) for v in values]\n",
        "legends = ['ln(x+1) ','Taylor 1 (linear)']\n",
        "\n",
        "fig, ax = plt.subplots()\n",
        "ax.plot(values,p_ln, color ='red')\n",
        "ax.plot(values,t_ln1)\n",
        "\n",
        "ax.set_ylim([-1,1])\n",
        "ax.axhline(y=0.0, xmin=-1.0, xmax=1.0, color='black')\n",
        "ax.axvline(x=0.0, ymin=-10.0, ymax=10.0, color='black')\n",
        "ax.legend(legends)\n",
        "\n",
        "plt.show()"
      ],
      "execution_count": 32,
      "outputs": [
        {
          "output_type": "display_data",
          "data": {
            "text/plain": [
              "<Figure size 640x480 with 1 Axes>"
            ],
            "image/png": "[encoded data removed]"
          },
          "metadata": {}
        }
      ]
    },
    {
      "cell_type": "code",
      "metadata": {
        "colab": {
          "base_uri": "https://localhost:8080/",
          "height": 435
        },
        "id": "PLR1O9HUPFwg",
        "outputId": "ed57a608-d42d-46d1-bbe4-fe73c0a27082"
      },
      "source": [
        "import math\n",
        "import numpy as np\n",
        "import matplotlib.pyplot as plt\n",
        "# if using a Jupyter notebook, include:\n",
        "%matplotlib inline\n",
        "\n",
        "values = np.arange(-0.99,1,0.01)\n",
        "p_ln = np.log(values+1)\n",
        "t_ln2 = [taylor(ln(x+1), 0, 3).subs(x,v) for v in values]\n",
        "legends = ['ln(x+1) ','Taylor 2 (quadratic)']\n",
        "\n",
        "fig, ax = plt.subplots()\n",
        "ax.plot(values,p_ln, color ='red')\n",
        "ax.plot(values,t_ln2)\n",
        "\n",
        "ax.set_ylim([-1,1])\n",
        "ax.axhline(y=0.0, xmin=-1.0, xmax=1.0, color='black')\n",
        "ax.axvline(x=0.0, ymin=-10.0, ymax=10.0, color='black')\n",
        "ax.legend(legends)\n",
        "\n",
        "plt.show()"
      ],
      "execution_count": 33,
      "outputs": [
        {
          "output_type": "display_data",
          "data": {
            "text/plain": [
              "<Figure size 640x480 with 1 Axes>"
            ],
            "image/png": "[encoded data removed]"
          },
          "metadata": {}
        }
      ]
    },
    {
      "cell_type": "code",
      "metadata": {
        "colab": {
          "base_uri": "https://localhost:8080/",
          "height": 435
        },
        "id": "Z9AEeR_BPJCA",
        "outputId": "ce26f896-e5a3-4030-baf9-9f75f70bf18c"
      },
      "source": [
        "import math\n",
        "import numpy as np\n",
        "import matplotlib.pyplot as plt\n",
        "# if using a Jupyter notebook, include:\n",
        "%matplotlib inline\n",
        "\n",
        "values = np.arange(-0.99,1,0.01)\n",
        "p_ln = np.log(values+1)\n",
        "t_ln3 = [taylor(ln(x+1), 0, 4).subs(x,v) for v in values]\n",
        "legends = ['ln(x+1) ','Taylor 3 (cubic)']\n",
        "\n",
        "fig, ax = plt.subplots()\n",
        "ax.plot(values,p_ln, color ='red')\n",
        "ax.plot(values,t_ln3)\n",
        "\n",
        "ax.set_ylim([-1,1])\n",
        "ax.axhline(y=0.0, xmin=-1.0, xmax=1.0, color='black')\n",
        "ax.axvline(x=0.0, ymin=-10.0, ymax=10.0, color='black')\n",
        "ax.legend(legends)\n",
        "\n",
        "plt.show()"
      ],
      "execution_count": 34,
      "outputs": [
        {
          "output_type": "display_data",
          "data": {
            "text/plain": [
              "<Figure size 640x480 with 1 Axes>"
            ],
            "image/png": "[encoded data removed]"
          },
          "metadata": {}
        }
      ]
    },
    {
      "cell_type": "code",
      "metadata": {
        "id": "vLO9icMdPMmg",
        "colab": {
          "base_uri": "https://localhost:8080/",
          "height": 435
        },
        "outputId": "88094b25-4339-4663-ee13-a0f4d489b116"
      },
      "source": [
        "import math\n",
        "import numpy as np\n",
        "import matplotlib.pyplot as plt\n",
        "# if using a Jupyter notebook, include:\n",
        "%matplotlib inline\n",
        "\n",
        "values = np.arange(-0.99,1,0.01)\n",
        "p_exp = np.log(values+1)\n",
        "t_ln1 = [taylor(ln(x+1), 0, 2).subs(x,v) for v in values]\n",
        "t_ln2 = [taylor(ln(x+1), 0, 3).subs(x,v) for v in values]\n",
        "t_ln3 = [taylor(ln(x+1), 0, 4).subs(x,v) for v in values]\n",
        "legends = ['ln(x+1) ','Taylor 1 (linear)','Taylor 2 (quadratic)','Taylor 3 (cubic)']\n",
        "\n",
        "fig, ax = plt.subplots()\n",
        "ax.plot(values,p_exp)\n",
        "ax.plot(values,t_ln1)\n",
        "ax.plot(values,t_ln2)\n",
        "ax.plot(values,t_ln3)\n",
        "\n",
        "ax.set_ylim([-1,1])\n",
        "ax.axhline(y=0.0, xmin=-1.0, xmax=1.0, color='black')\n",
        "ax.axvline(x=0.0, ymin=-10.0, ymax=10.0, color='black')\n",
        "ax.legend(legends)\n",
        "\n",
        "plt.show()"
      ],
      "execution_count": 35,
      "outputs": [
        {
          "output_type": "display_data",
          "data": {
            "text/plain": [
              "<Figure size 640x480 with 1 Axes>"
            ],
            "image/png": "[encoded data removed]"
          },
          "metadata": {}
        }
      ]
    }
  ]
}